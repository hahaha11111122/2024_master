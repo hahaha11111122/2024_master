{
  "cells": [
    {
      "cell_type": "markdown",
      "metadata": {
        "id": "view-in-github",
        "colab_type": "text"
      },
      "source": [
        "<a href=\"https://colab.research.google.com/github/hahaha11111122/2024_master/blob/main/1%EC%9D%BC%EC%B0%A8_%ED%8C%8C%EC%9D%B4%EC%8D%AC%EA%B8%B0%EC%B4%88%EB%8B%A4%EC%A7%80%EA%B8%B0_%EC%8B%A4%EC%8A%B5_ipynb%EC%9D%98_%EC%82%AC%EB%B3%B8.ipynb\" target=\"_parent\"><img src=\"https://colab.research.google.com/assets/colab-badge.svg\" alt=\"Open In Colab\"/></a>"
      ]
    },
    {
      "cell_type": "markdown",
      "metadata": {
        "id": "zRxHpy-28GGG"
      },
      "source": [
        "# 1일차-파이썬 기초 다지기"
      ]
    },
    {
      "cell_type": "markdown",
      "metadata": {
        "id": "VRVM91mPB34V"
      },
      "source": [
        "## 1.파이썬 이해하기"
      ]
    },
    {
      "cell_type": "markdown",
      "metadata": {
        "id": "hOwZhukd8GGK"
      },
      "source": [
        "### 파이썬 버전 확인"
      ]
    },
    {
      "cell_type": "code",
      "source": [
        "!python --version"
      ],
      "metadata": {
        "id": "WCJ5nbOTB5ZF",
        "colab": {
          "base_uri": "https://localhost:8080/"
        },
        "outputId": "cc4b401e-1236-4cbd-8425-268acfee0706"
      },
      "execution_count": null,
      "outputs": [
        {
          "output_type": "stream",
          "name": "stdout",
          "text": [
            "Python 3.10.12\n"
          ]
        }
      ]
    },
    {
      "cell_type": "code",
      "source": [
        "import sys\n",
        "sys.version"
      ],
      "metadata": {
        "colab": {
          "base_uri": "https://localhost:8080/",
          "height": 35
        },
        "id": "Ua3DkoNTxqhQ",
        "outputId": "f55af6f5-939a-4757-a190-2bd6459a1cb0"
      },
      "execution_count": null,
      "outputs": [
        {
          "output_type": "execute_result",
          "data": {
            "text/plain": [
              "'3.10.12 (main, Sep 11 2024, 15:47:36) [GCC 11.4.0]'"
            ],
            "application/vnd.google.colaboratory.intrinsic+json": {
              "type": "string"
            }
          },
          "metadata": {},
          "execution_count": 4
        }
      ]
    },
    {
      "cell_type": "markdown",
      "source": [
        "\n",
        "sys라는 라이브러리를 가져오겠다\n",
        "코랩에서 마지막줄은 프린트를 안써도 됨.........\n",
        "# 샵을 하면 글씨가 커지고  두개면 더작아지고 세개면 더 작아짐."
      ],
      "metadata": {
        "id": "dWOu9XGBx6Zb"
      }
    },
    {
      "cell_type": "markdown",
      "metadata": {
        "id": "HAFtSTG28GGL"
      },
      "source": [
        "### 파이썬 설치 위치 확인"
      ]
    },
    {
      "cell_type": "code",
      "execution_count": null,
      "metadata": {
        "id": "46cMOIHW8GGM",
        "colab": {
          "base_uri": "https://localhost:8080/"
        },
        "outputId": "e236fccc-455c-4668-ffd8-b50711b9cf5d"
      },
      "outputs": [
        {
          "output_type": "stream",
          "name": "stdout",
          "text": [
            "/usr/bin/python3\n"
          ]
        },
        {
          "output_type": "execute_result",
          "data": {
            "text/plain": [
              "['/content',\n",
              " '/env/python',\n",
              " '/usr/lib/python310.zip',\n",
              " '/usr/lib/python3.10',\n",
              " '/usr/lib/python3.10/lib-dynload',\n",
              " '',\n",
              " '/usr/local/lib/python3.10/dist-packages',\n",
              " '/usr/lib/python3/dist-packages',\n",
              " '/usr/local/lib/python3.10/dist-packages/IPython/extensions',\n",
              " '/usr/local/lib/python3.10/dist-packages/setuptools/_vendor',\n",
              " '/root/.ipython']"
            ]
          },
          "metadata": {},
          "execution_count": 6
        }
      ],
      "source": [
        "print(sys.executable)\n",
        "sys.path"
      ]
    },
    {
      "cell_type": "markdown",
      "metadata": {
        "id": "BVZeLUFeILol"
      },
      "source": [
        "### [실습] 파이썬 정보 확인하기\n",
        "\n",
        "\n",
        "1.   설치된 파이썬 버전 출력하기\n",
        "2.   파이썬 실행파일 위치 출력하기\n",
        "\n"
      ]
    },
    {
      "cell_type": "code",
      "execution_count": null,
      "metadata": {
        "id": "wYTlynjPIaj4"
      },
      "outputs": [],
      "source": [
        "import sys\n",
        "\n",
        "print(f'설치된 파이썬 버전: { }')\n",
        "print(f'파이썬 실행파일 위치: { }')"
      ]
    },
    {
      "cell_type": "markdown",
      "metadata": {
        "id": "KE15Fd6jCbUK"
      },
      "source": [
        "### 라이브러리 설치하기"
      ]
    },
    {
      "cell_type": "code",
      "execution_count": null,
      "metadata": {
        "id": "PlG-i1fYCbdI",
        "colab": {
          "base_uri": "https://localhost:8080/"
        },
        "outputId": "a213825c-c643-4466-fac3-0fb80bab4f7e"
      },
      "outputs": [
        {
          "output_type": "stream",
          "name": "stdout",
          "text": [
            "Found existing installation: missingno 0.5.2\n",
            "Uninstalling missingno-0.5.2:\n",
            "  Would remove:\n",
            "    /usr/local/lib/python3.10/dist-packages/missingno-0.5.2.dist-info/*\n",
            "    /usr/local/lib/python3.10/dist-packages/missingno/*\n",
            "Proceed (Y/n)? Y\n",
            "  Successfully uninstalled missingno-0.5.2\n"
          ]
        }
      ],
      "source": [
        "!pip uninstall missingno"
      ]
    },
    {
      "cell_type": "markdown",
      "source": [
        "외부라이블러리라 ! 표 붙임"
      ],
      "metadata": {
        "id": "pxMaQ_5uzkPM"
      }
    },
    {
      "cell_type": "markdown",
      "source": [
        "### 라이브러리 삭제하기"
      ],
      "metadata": {
        "id": "3peceTCrCuXS"
      }
    },
    {
      "cell_type": "code",
      "execution_count": null,
      "metadata": {
        "id": "CO9pIWvq8GGN",
        "scrolled": true
      },
      "outputs": [],
      "source": [
        "!pip uninstall missingno"
      ]
    },
    {
      "cell_type": "markdown",
      "metadata": {
        "id": "5KtJAiS08GGO"
      },
      "source": [
        "### 설치된 라이브러리 확인(전체)"
      ]
    },
    {
      "cell_type": "code",
      "execution_count": null,
      "metadata": {
        "id": "0bsTdq6y8GGO",
        "colab": {
          "base_uri": "https://localhost:8080/"
        },
        "collapsed": true,
        "outputId": "1563a68b-19ff-42c7-bf28-7f2e3850d419"
      },
      "outputs": [
        {
          "output_type": "stream",
          "name": "stdout",
          "text": [
            "Package                            Version\n",
            "---------------------------------- -------------------\n",
            "absl-py                            1.4.0\n",
            "accelerate                         0.34.2\n",
            "aiohappyeyeballs                   2.4.3\n",
            "aiohttp                            3.10.9\n",
            "aiosignal                          1.3.1\n",
            "alabaster                          0.7.16\n",
            "albucore                           0.0.16\n",
            "albumentations                     1.4.15\n",
            "altair                             4.2.2\n",
            "annotated-types                    0.7.0\n",
            "anyio                              3.7.1\n",
            "argon2-cffi                        23.1.0\n",
            "argon2-cffi-bindings               21.2.0\n",
            "array_record                       0.5.1\n",
            "arviz                              0.19.0\n",
            "astropy                            6.1.4\n",
            "astropy-iers-data                  0.2024.10.7.0.32.46\n",
            "astunparse                         1.6.3\n",
            "async-timeout                      4.0.3\n",
            "atpublic                           4.1.0\n",
            "attrs                              24.2.0\n",
            "audioread                          3.0.1\n",
            "autograd                           1.7.0\n",
            "babel                              2.16.0\n",
            "backcall                           0.2.0\n",
            "beautifulsoup4                     4.12.3\n",
            "bigframes                          1.21.0\n",
            "bigquery-magics                    0.4.0\n",
            "bleach                             6.1.0\n",
            "blinker                            1.4\n",
            "blis                               0.7.11\n",
            "blosc2                             2.0.0\n",
            "bokeh                              3.4.3\n",
            "Bottleneck                         1.4.0\n",
            "bqplot                             0.12.43\n",
            "branca                             0.8.0\n",
            "build                              1.2.2.post1\n",
            "CacheControl                       0.14.0\n",
            "cachetools                         5.5.0\n",
            "catalogue                          2.0.10\n",
            "certifi                            2024.8.30\n",
            "cffi                               1.17.1\n",
            "chardet                            5.2.0\n",
            "charset-normalizer                 3.3.2\n",
            "chex                               0.1.87\n",
            "clarabel                           0.9.0\n",
            "click                              8.1.7\n",
            "cloudpathlib                       0.19.0\n",
            "cloudpickle                        2.2.1\n",
            "cmake                              3.30.4\n",
            "cmdstanpy                          1.2.4\n",
            "colorcet                           3.1.0\n",
            "colorlover                         0.3.0\n",
            "colour                             0.1.5\n",
            "community                          1.0.0b1\n",
            "confection                         0.1.5\n",
            "cons                               0.4.6\n",
            "contextlib2                        21.6.0\n",
            "contourpy                          1.3.0\n",
            "cryptography                       43.0.1\n",
            "cuda-python                        12.2.1\n",
            "cudf-cu12                          24.6.1\n",
            "cufflinks                          0.17.3\n",
            "cupy-cuda12x                       12.2.0\n",
            "cvxopt                             1.3.2\n",
            "cvxpy                              1.5.3\n",
            "cycler                             0.12.1\n",
            "cymem                              2.0.8\n",
            "Cython                             3.0.11\n",
            "dask                               2024.8.0\n",
            "datascience                        0.17.6\n",
            "db-dtypes                          1.3.0\n",
            "dbus-python                        1.2.18\n",
            "debugpy                            1.6.6\n",
            "decorator                          4.4.2\n",
            "defusedxml                         0.7.1\n",
            "Deprecated                         1.2.14\n",
            "distributed                        2024.8.0\n",
            "distro                             1.7.0\n",
            "dlib                               19.24.2\n",
            "dm-tree                            0.1.8\n",
            "docstring_parser                   0.16\n",
            "docutils                           0.18.1\n",
            "dopamine_rl                        4.0.9\n",
            "duckdb                             1.1.1\n",
            "earthengine-api                    1.0.0\n",
            "easydict                           1.13\n",
            "ecos                               2.0.14\n",
            "editdistance                       0.8.1\n",
            "eerepr                             0.0.4\n",
            "einops                             0.8.0\n",
            "en-core-web-sm                     3.7.1\n",
            "entrypoints                        0.4\n",
            "et-xmlfile                         1.1.0\n",
            "etils                              1.9.4\n",
            "etuples                            0.3.9\n",
            "eval_type_backport                 0.2.0\n",
            "exceptiongroup                     1.2.2\n",
            "fastai                             2.7.17\n",
            "fastcore                           1.7.11\n",
            "fastdownload                       0.0.7\n",
            "fastjsonschema                     2.20.0\n",
            "fastprogress                       1.0.3\n",
            "fastrlock                          0.8.2\n",
            "filelock                           3.16.1\n",
            "firebase-admin                     6.5.0\n",
            "Flask                              2.2.5\n",
            "flatbuffers                        24.3.25\n",
            "flax                               0.8.5\n",
            "folium                             0.17.0\n",
            "fonttools                          4.54.1\n",
            "frozendict                         2.4.5\n",
            "frozenlist                         1.4.1\n",
            "fsspec                             2024.6.1\n",
            "future                             1.0.0\n",
            "gast                               0.6.0\n",
            "gcsfs                              2024.6.1\n",
            "GDAL                               3.6.4\n",
            "gdown                              5.2.0\n",
            "geemap                             0.34.5\n",
            "gensim                             4.3.3\n",
            "geocoder                           1.38.1\n",
            "geographiclib                      2.0\n",
            "geopandas                          1.0.1\n",
            "geopy                              2.4.1\n",
            "gin-config                         0.5.0\n",
            "glob2                              0.7\n",
            "google                             2.0.3\n",
            "google-ai-generativelanguage       0.6.6\n",
            "google-api-core                    2.19.2\n",
            "google-api-python-client           2.137.0\n",
            "google-auth                        2.27.0\n",
            "google-auth-httplib2               0.2.0\n",
            "google-auth-oauthlib               1.2.1\n",
            "google-cloud-aiplatform            1.69.0\n",
            "google-cloud-bigquery              3.25.0\n",
            "google-cloud-bigquery-connection   1.15.5\n",
            "google-cloud-bigquery-storage      2.26.0\n",
            "google-cloud-bigtable              2.26.0\n",
            "google-cloud-core                  2.4.1\n",
            "google-cloud-datastore             2.19.0\n",
            "google-cloud-firestore             2.16.1\n",
            "google-cloud-functions             1.16.5\n",
            "google-cloud-iam                   2.15.2\n",
            "google-cloud-language              2.13.4\n",
            "google-cloud-pubsub                2.25.2\n",
            "google-cloud-resource-manager      1.12.5\n",
            "google-cloud-storage               2.8.0\n",
            "google-cloud-translate             3.15.5\n",
            "google-colab                       1.0.0\n",
            "google-crc32c                      1.6.0\n",
            "google-generativeai                0.7.2\n",
            "google-pasta                       0.2.0\n",
            "google-resumable-media             2.7.2\n",
            "googleapis-common-protos           1.65.0\n",
            "googledrivedownloader              0.4\n",
            "graphviz                           0.20.3\n",
            "greenlet                           3.1.1\n",
            "grpc-google-iam-v1                 0.13.1\n",
            "grpcio                             1.64.1\n",
            "grpcio-status                      1.48.2\n",
            "gspread                            6.0.2\n",
            "gspread-dataframe                  3.3.1\n",
            "gym                                0.25.2\n",
            "gym-notices                        0.0.8\n",
            "h5netcdf                           1.4.0\n",
            "h5py                               3.11.0\n",
            "holidays                           0.57\n",
            "holoviews                          1.19.1\n",
            "html5lib                           1.1\n",
            "httpimport                         1.4.0\n",
            "httplib2                           0.22.0\n",
            "huggingface-hub                    0.24.7\n",
            "humanize                           4.10.0\n",
            "hyperopt                           0.2.7\n",
            "ibis-framework                     9.2.0\n",
            "idna                               3.10\n",
            "imageio                            2.35.1\n",
            "imageio-ffmpeg                     0.5.1\n",
            "imagesize                          1.4.1\n",
            "imbalanced-learn                   0.12.4\n",
            "imgaug                             0.4.0\n",
            "immutabledict                      4.2.0\n",
            "importlib_metadata                 8.4.0\n",
            "importlib_resources                6.4.5\n",
            "imutils                            0.5.4\n",
            "inflect                            7.4.0\n",
            "iniconfig                          2.0.0\n",
            "intel-cmplr-lib-ur                 2024.2.1\n",
            "intel-openmp                       2024.2.1\n",
            "ipyevents                          2.0.2\n",
            "ipyfilechooser                     0.6.0\n",
            "ipykernel                          5.5.6\n",
            "ipyleaflet                         0.19.2\n",
            "ipyparallel                        8.8.0\n",
            "ipython                            7.34.0\n",
            "ipython-genutils                   0.2.0\n",
            "ipython-sql                        0.5.0\n",
            "ipytree                            0.2.2\n",
            "ipywidgets                         7.7.1\n",
            "itsdangerous                       2.2.0\n",
            "jax                                0.4.33\n",
            "jax-cuda12-pjrt                    0.4.33\n",
            "jax-cuda12-plugin                  0.4.33\n",
            "jaxlib                             0.4.33\n",
            "jeepney                            0.7.1\n",
            "jellyfish                          1.1.0\n",
            "jieba                              0.42.1\n",
            "Jinja2                             3.1.4\n",
            "joblib                             1.4.2\n",
            "jsonpickle                         3.3.0\n",
            "jsonschema                         4.23.0\n",
            "jsonschema-specifications          2023.12.1\n",
            "jupyter-client                     6.1.12\n",
            "jupyter-console                    6.1.0\n",
            "jupyter_core                       5.7.2\n",
            "jupyter-leaflet                    0.19.2\n",
            "jupyter-server                     1.24.0\n",
            "jupyterlab_pygments                0.3.0\n",
            "jupyterlab_widgets                 3.0.13\n",
            "kaggle                             1.6.17\n",
            "kagglehub                          0.3.1\n",
            "keras                              3.4.1\n",
            "keyring                            23.5.0\n",
            "kiwisolver                         1.4.7\n",
            "langcodes                          3.4.1\n",
            "language_data                      1.2.0\n",
            "launchpadlib                       1.10.16\n",
            "lazr.restfulclient                 0.14.4\n",
            "lazr.uri                           1.0.6\n",
            "lazy_loader                        0.4\n",
            "libclang                           18.1.1\n",
            "librosa                            0.10.2.post1\n",
            "lightgbm                           4.5.0\n",
            "linkify-it-py                      2.0.3\n",
            "llvmlite                           0.43.0\n",
            "locket                             1.0.0\n",
            "logical-unification                0.4.6\n",
            "lxml                               4.9.4\n",
            "marisa-trie                        1.2.0\n",
            "Markdown                           3.7\n",
            "markdown-it-py                     3.0.0\n",
            "MarkupSafe                         2.1.5\n",
            "matplotlib                         3.7.1\n",
            "matplotlib-inline                  0.1.7\n",
            "matplotlib-venn                    1.1.1\n",
            "mdit-py-plugins                    0.4.2\n",
            "mdurl                              0.1.2\n",
            "miniKanren                         1.0.3\n",
            "mistune                            0.8.4\n",
            "mizani                             0.11.4\n",
            "mkl                                2024.2.2\n",
            "ml-dtypes                          0.4.1\n",
            "mlxtend                            0.23.1\n",
            "more-itertools                     10.5.0\n",
            "moviepy                            1.0.3\n",
            "mpmath                             1.3.0\n",
            "msgpack                            1.0.8\n",
            "multidict                          6.1.0\n",
            "multipledispatch                   1.0.0\n",
            "multitasking                       0.0.11\n",
            "murmurhash                         1.0.10\n",
            "music21                            9.1.0\n",
            "namex                              0.0.8\n",
            "natsort                            8.4.0\n",
            "nbclassic                          1.1.0\n",
            "nbclient                           0.10.0\n",
            "nbconvert                          6.5.4\n",
            "nbformat                           5.10.4\n",
            "nest-asyncio                       1.6.0\n",
            "networkx                           3.3\n",
            "nibabel                            5.2.1\n",
            "nltk                               3.8.1\n",
            "notebook                           6.5.5\n",
            "notebook_shim                      0.2.4\n",
            "numba                              0.60.0\n",
            "numexpr                            2.10.1\n",
            "numpy                              1.26.4\n",
            "nvidia-cublas-cu12                 12.6.3.3\n",
            "nvidia-cuda-cupti-cu12             12.6.80\n",
            "nvidia-cuda-nvcc-cu12              12.6.77\n",
            "nvidia-cuda-runtime-cu12           12.6.77\n",
            "nvidia-cudnn-cu12                  9.4.0.58\n",
            "nvidia-cufft-cu12                  11.3.0.4\n",
            "nvidia-cusolver-cu12               11.7.1.2\n",
            "nvidia-cusparse-cu12               12.5.4.2\n",
            "nvidia-nccl-cu12                   2.23.4\n",
            "nvidia-nvjitlink-cu12              12.6.77\n",
            "nvtx                               0.2.10\n",
            "oauth2client                       4.1.3\n",
            "oauthlib                           3.2.2\n",
            "opencv-contrib-python              4.10.0.84\n",
            "opencv-python                      4.10.0.84\n",
            "opencv-python-headless             4.10.0.84\n",
            "openpyxl                           3.1.5\n",
            "opentelemetry-api                  1.27.0\n",
            "opentelemetry-sdk                  1.27.0\n",
            "opentelemetry-semantic-conventions 0.48b0\n",
            "opt_einsum                         3.4.0\n",
            "optax                              0.2.3\n",
            "optree                             0.13.0\n",
            "orbax-checkpoint                   0.6.4\n",
            "osqp                               0.6.7.post0\n",
            "packaging                          24.1\n",
            "pandas                             2.2.2\n",
            "pandas-datareader                  0.10.0\n",
            "pandas-gbq                         0.23.2\n",
            "pandas-stubs                       2.2.2.240909\n",
            "pandocfilters                      1.5.1\n",
            "panel                              1.4.5\n",
            "param                              2.1.1\n",
            "parso                              0.8.4\n",
            "parsy                              2.1\n",
            "partd                              1.4.2\n",
            "pathlib                            1.0.1\n",
            "patsy                              0.5.6\n",
            "peewee                             3.17.6\n",
            "pexpect                            4.9.0\n",
            "pickleshare                        0.7.5\n",
            "pillow                             10.4.0\n",
            "pip                                24.1.2\n",
            "pip-tools                          7.4.1\n",
            "platformdirs                       4.3.6\n",
            "plotly                             5.24.1\n",
            "plotnine                           0.13.6\n",
            "pluggy                             1.5.0\n",
            "polars                             1.7.1\n",
            "pooch                              1.8.2\n",
            "portpicker                         1.5.2\n",
            "prefetch_generator                 1.0.3\n",
            "preshed                            3.0.9\n",
            "prettytable                        3.11.0\n",
            "proglog                            0.1.10\n",
            "progressbar2                       4.5.0\n",
            "prometheus_client                  0.21.0\n",
            "promise                            2.3\n",
            "prompt_toolkit                     3.0.48\n",
            "prophet                            1.1.6\n",
            "proto-plus                         1.24.0\n",
            "protobuf                           3.20.3\n",
            "psutil                             5.9.5\n",
            "psycopg2                           2.9.9\n",
            "ptyprocess                         0.7.0\n",
            "py-cpuinfo                         9.0.0\n",
            "py4j                               0.10.9.7\n",
            "pyarrow                            16.1.0\n",
            "pyarrow-hotfix                     0.6\n",
            "pyasn1                             0.6.1\n",
            "pyasn1_modules                     0.4.1\n",
            "pycocotools                        2.0.8\n",
            "pycparser                          2.22\n",
            "pydantic                           2.9.2\n",
            "pydantic_core                      2.23.4\n",
            "pydata-google-auth                 1.8.2\n",
            "pydot                              3.0.2\n",
            "pydot-ng                           2.0.0\n",
            "pydotplus                          2.0.2\n",
            "PyDrive                            1.3.1\n",
            "PyDrive2                           1.20.0\n",
            "pyerfa                             2.0.1.4\n",
            "pygame                             2.6.1\n",
            "Pygments                           2.18.0\n",
            "PyGObject                          3.42.1\n",
            "PyJWT                              2.9.0\n",
            "pymc                               5.16.2\n",
            "pymystem3                          0.2.0\n",
            "pynvjitlink-cu12                   0.3.0\n",
            "pyogrio                            0.10.0\n",
            "PyOpenGL                           3.1.7\n",
            "pyOpenSSL                          24.2.1\n",
            "pyparsing                          3.1.4\n",
            "pyperclip                          1.9.0\n",
            "pyproj                             3.7.0\n",
            "pyproject_hooks                    1.2.0\n",
            "pyshp                              2.3.1\n",
            "PySocks                            1.7.1\n",
            "pytensor                           2.25.5\n",
            "pytest                             7.4.4\n",
            "python-apt                         0.0.0\n",
            "python-box                         7.2.0\n",
            "python-dateutil                    2.8.2\n",
            "python-louvain                     0.16\n",
            "python-slugify                     8.0.4\n",
            "python-utils                       3.9.0\n",
            "pytz                               2024.2\n",
            "pyviz_comms                        3.0.3\n",
            "PyYAML                             6.0.2\n",
            "pyzmq                              24.0.1\n",
            "qdldl                              0.1.7.post4\n",
            "ratelim                            0.1.6\n",
            "referencing                        0.35.1\n",
            "regex                              2024.9.11\n",
            "requests                           2.32.3\n",
            "requests-oauthlib                  1.3.1\n",
            "requirements-parser                0.9.0\n",
            "rich                               13.9.2\n",
            "rmm-cu12                           24.6.0\n",
            "rpds-py                            0.20.0\n",
            "rpy2                               3.4.2\n",
            "rsa                                4.9\n",
            "safetensors                        0.4.5\n",
            "scikit-image                       0.24.0\n",
            "scikit-learn                       1.5.2\n",
            "scipy                              1.13.1\n",
            "scooby                             0.10.0\n",
            "scs                                3.2.7\n",
            "seaborn                            0.13.2\n",
            "SecretStorage                      3.3.1\n",
            "Send2Trash                         1.8.3\n",
            "sentencepiece                      0.2.0\n",
            "setuptools                         71.0.4\n",
            "shapely                            2.0.6\n",
            "shellingham                        1.5.4\n",
            "simple-parsing                     0.1.6\n",
            "six                                1.16.0\n",
            "sklearn-pandas                     2.2.0\n",
            "smart-open                         7.0.5\n",
            "sniffio                            1.3.1\n",
            "snowballstemmer                    2.2.0\n",
            "sortedcontainers                   2.4.0\n",
            "soundfile                          0.12.1\n",
            "soupsieve                          2.6\n",
            "soxr                               0.5.0.post1\n",
            "spacy                              3.7.5\n",
            "spacy-legacy                       3.0.12\n",
            "spacy-loggers                      1.0.5\n",
            "Sphinx                             5.0.2\n",
            "sphinxcontrib-applehelp            2.0.0\n",
            "sphinxcontrib-devhelp              2.0.0\n",
            "sphinxcontrib-htmlhelp             2.1.0\n",
            "sphinxcontrib-jsmath               1.0.1\n",
            "sphinxcontrib-qthelp               2.0.0\n",
            "sphinxcontrib-serializinghtml      2.0.0\n",
            "SQLAlchemy                         2.0.35\n",
            "sqlglot                            25.1.0\n",
            "sqlparse                           0.5.1\n",
            "srsly                              2.4.8\n",
            "stanio                             0.5.1\n",
            "statsmodels                        0.14.4\n",
            "StrEnum                            0.4.15\n",
            "sympy                              1.13.3\n",
            "tables                             3.8.0\n",
            "tabulate                           0.9.0\n",
            "tbb                                2021.13.1\n",
            "tblib                              3.0.0\n",
            "tenacity                           9.0.0\n",
            "tensorboard                        2.17.0\n",
            "tensorboard-data-server            0.7.2\n",
            "tensorflow                         2.17.0\n",
            "tensorflow-datasets                4.9.6\n",
            "tensorflow-hub                     0.16.1\n",
            "tensorflow-io-gcs-filesystem       0.37.1\n",
            "tensorflow-metadata                1.16.0\n",
            "tensorflow-probability             0.24.0\n",
            "tensorstore                        0.1.66\n",
            "termcolor                          2.5.0\n",
            "terminado                          0.18.1\n",
            "text-unidecode                     1.3\n",
            "textblob                           0.17.1\n",
            "tf_keras                           2.17.0\n",
            "tf-slim                            1.1.0\n",
            "thinc                              8.2.5\n",
            "threadpoolctl                      3.5.0\n",
            "tifffile                           2024.9.20\n",
            "tinycss2                           1.3.0\n",
            "tokenizers                         0.19.1\n",
            "toml                               0.10.2\n",
            "tomli                              2.0.2\n",
            "toolz                              0.12.1\n",
            "torch                              2.4.1+cu121\n",
            "torchaudio                         2.4.1+cu121\n",
            "torchsummary                       1.5.1\n",
            "torchvision                        0.19.1+cu121\n",
            "tornado                            6.3.3\n",
            "tqdm                               4.66.5\n",
            "traitlets                          5.7.1\n",
            "traittypes                         0.2.1\n",
            "transformers                       4.44.2\n",
            "tweepy                             4.14.0\n",
            "typeguard                          4.3.0\n",
            "typer                              0.12.5\n",
            "types-pytz                         2024.2.0.20241003\n",
            "types-setuptools                   75.1.0.20240917\n",
            "typing_extensions                  4.12.2\n",
            "tzdata                             2024.2\n",
            "tzlocal                            5.2\n",
            "uc-micro-py                        1.0.3\n",
            "uritemplate                        4.1.1\n",
            "urllib3                            2.2.3\n",
            "vega-datasets                      0.9.0\n",
            "wadllib                            1.3.6\n",
            "wasabi                             1.1.3\n",
            "wcwidth                            0.2.13\n",
            "weasel                             0.4.1\n",
            "webcolors                          24.8.0\n",
            "webencodings                       0.5.1\n",
            "websocket-client                   1.8.0\n",
            "Werkzeug                           3.0.4\n",
            "wheel                              0.44.0\n",
            "widgetsnbextension                 3.6.9\n",
            "wordcloud                          1.9.3\n",
            "wrapt                              1.16.0\n",
            "xarray                             2024.9.0\n",
            "xarray-einstats                    0.8.0\n",
            "xgboost                            2.1.1\n",
            "xlrd                               2.0.1\n",
            "xyzservices                        2024.9.0\n",
            "yarl                               1.13.1\n",
            "yellowbrick                        1.5\n",
            "yfinance                           0.2.44\n",
            "zict                               3.0.0\n",
            "zipp                               3.20.2\n"
          ]
        }
      ],
      "source": [
        "!pip list"
      ]
    },
    {
      "cell_type": "markdown",
      "metadata": {
        "id": "G_IjDeFh8GGP"
      },
      "source": [
        "### 설치된 라이브러리 확인(특정 라이브러리)"
      ]
    },
    {
      "cell_type": "code",
      "execution_count": null,
      "metadata": {
        "id": "TqvE9YpV8GGP",
        "colab": {
          "base_uri": "https://localhost:8080/"
        },
        "collapsed": true,
        "outputId": "b8b947b3-c21d-46ad-f9dc-ab921313ee34"
      },
      "outputs": [
        {
          "output_type": "stream",
          "name": "stdout",
          "text": [
            "Name: numpy\n",
            "Version: 1.26.4\n",
            "Summary: Fundamental package for array computing in Python\n",
            "Home-page: https://numpy.org\n",
            "Author: Travis E. Oliphant et al.\n",
            "Author-email: \n",
            "License: Copyright (c) 2005-2023, NumPy Developers.\n",
            "        All rights reserved.\n",
            "        \n",
            "        Redistribution and use in source and binary forms, with or without\n",
            "        modification, are permitted provided that the following conditions are\n",
            "        met:\n",
            "        \n",
            "            * Redistributions of source code must retain the above copyright\n",
            "               notice, this list of conditions and the following disclaimer.\n",
            "        \n",
            "            * Redistributions in binary form must reproduce the above\n",
            "               copyright notice, this list of conditions and the following\n",
            "               disclaimer in the documentation and/or other materials provided\n",
            "               with the distribution.\n",
            "        \n",
            "            * Neither the name of the NumPy Developers nor the names of any\n",
            "               contributors may be used to endorse or promote products derived\n",
            "               from this software without specific prior written permission.\n",
            "        \n",
            "        THIS SOFTWARE IS PROVIDED BY THE COPYRIGHT HOLDERS AND CONTRIBUTORS\n",
            "        \"AS IS\" AND ANY EXPRESS OR IMPLIED WARRANTIES, INCLUDING, BUT NOT\n",
            "        LIMITED TO, THE IMPLIED WARRANTIES OF MERCHANTABILITY AND FITNESS FOR\n",
            "        A PARTICULAR PURPOSE ARE DISCLAIMED. IN NO EVENT SHALL THE COPYRIGHT\n",
            "        OWNER OR CONTRIBUTORS BE LIABLE FOR ANY DIRECT, INDIRECT, INCIDENTAL,\n",
            "        SPECIAL, EXEMPLARY, OR CONSEQUENTIAL DAMAGES (INCLUDING, BUT NOT\n",
            "        LIMITED TO, PROCUREMENT OF SUBSTITUTE GOODS OR SERVICES; LOSS OF USE,\n",
            "        DATA, OR PROFITS; OR BUSINESS INTERRUPTION) HOWEVER CAUSED AND ON ANY\n",
            "        THEORY OF LIABILITY, WHETHER IN CONTRACT, STRICT LIABILITY, OR TORT\n",
            "        (INCLUDING NEGLIGENCE OR OTHERWISE) ARISING IN ANY WAY OUT OF THE USE\n",
            "        OF THIS SOFTWARE, EVEN IF ADVISED OF THE POSSIBILITY OF SUCH DAMAGE.\n",
            "        \n",
            "        ----\n",
            "        \n",
            "        The NumPy repository and source distributions bundle several libraries that are\n",
            "        compatibly licensed.  We list these here.\n",
            "        \n",
            "        Name: lapack-lite\n",
            "        Files: numpy/linalg/lapack_lite/*\n",
            "        License: BSD-3-Clause\n",
            "          For details, see numpy/linalg/lapack_lite/LICENSE.txt\n",
            "        \n",
            "        Name: tempita\n",
            "        Files: tools/npy_tempita/*\n",
            "        License: MIT\n",
            "          For details, see tools/npy_tempita/license.txt\n",
            "        \n",
            "        Name: dragon4\n",
            "        Files: numpy/core/src/multiarray/dragon4.c\n",
            "        License: MIT\n",
            "          For license text, see numpy/core/src/multiarray/dragon4.c\n",
            "        \n",
            "        Name: libdivide\n",
            "        Files: numpy/core/include/numpy/libdivide/*\n",
            "        License: Zlib\n",
            "          For license text, see numpy/core/include/numpy/libdivide/LICENSE.txt\n",
            "        \n",
            "        \n",
            "        Note that the following files are vendored in the repository and sdist but not\n",
            "        installed in built numpy packages:\n",
            "        \n",
            "        Name: Meson\n",
            "        Files: vendored-meson/meson/*\n",
            "        License: Apache 2.0\n",
            "          For license text, see vendored-meson/meson/COPYING\n",
            "        \n",
            "        Name: spin\n",
            "        Files: .spin/cmds.py\n",
            "        License: BSD-3\n",
            "          For license text, see .spin/LICENSE\n",
            "        \n",
            "        ----\n",
            "        \n",
            "        This binary distribution of NumPy also bundles the following software:\n",
            "        \n",
            "        \n",
            "        Name: OpenBLAS\n",
            "        Files: numpy.libs/libopenblas*.so\n",
            "        Description: bundled as a dynamically linked library\n",
            "        Availability: https://github.com/OpenMathLib/OpenBLAS/\n",
            "        License: BSD-3-Clause\n",
            "          Copyright (c) 2011-2014, The OpenBLAS Project\n",
            "          All rights reserved.\n",
            "        \n",
            "          Redistribution and use in source and binary forms, with or without\n",
            "          modification, are permitted provided that the following conditions are\n",
            "          met:\n",
            "        \n",
            "             1. Redistributions of source code must retain the above copyright\n",
            "                notice, this list of conditions and the following disclaimer.\n",
            "        \n",
            "             2. Redistributions in binary form must reproduce the above copyright\n",
            "                notice, this list of conditions and the following disclaimer in\n",
            "                the documentation and/or other materials provided with the\n",
            "                distribution.\n",
            "             3. Neither the name of the OpenBLAS project nor the names of\n",
            "                its contributors may be used to endorse or promote products\n",
            "                derived from this software without specific prior written\n",
            "                permission.\n",
            "        \n",
            "          THIS SOFTWARE IS PROVIDED BY THE COPYRIGHT HOLDERS AND CONTRIBUTORS \"AS IS\"\n",
            "          AND ANY EXPRESS OR IMPLIED WARRANTIES, INCLUDING, BUT NOT LIMITED TO, THE\n",
            "          IMPLIED WARRANTIES OF MERCHANTABILITY AND FITNESS FOR A PARTICULAR PURPOSE\n",
            "          ARE DISCLAIMED. IN NO EVENT SHALL THE COPYRIGHT OWNER OR CONTRIBUTORS BE\n",
            "          LIABLE FOR ANY DIRECT, INDIRECT, INCIDENTAL, SPECIAL, EXEMPLARY, OR CONSEQUENTIAL\n",
            "          DAMAGES (INCLUDING, BUT NOT LIMITED TO, PROCUREMENT OF SUBSTITUTE GOODS OR\n",
            "          SERVICES; LOSS OF USE, DATA, OR PROFITS; OR BUSINESS INTERRUPTION) HOWEVER\n",
            "          CAUSED AND ON ANY THEORY OF LIABILITY, WHETHER IN CONTRACT, STRICT LIABILITY,\n",
            "          OR TORT (INCLUDING NEGLIGENCE OR OTHERWISE) ARISING IN ANY WAY OUT OF THE\n",
            "          USE OF THIS SOFTWARE, EVEN IF ADVISED OF THE POSSIBILITY OF SUCH DAMAGE.\n",
            "        \n",
            "        \n",
            "        Name: LAPACK\n",
            "        Files: numpy.libs/libopenblas*.so\n",
            "        Description: bundled in OpenBLAS\n",
            "        Availability: https://github.com/OpenMathLib/OpenBLAS/\n",
            "        License: BSD-3-Clause-Attribution\n",
            "          Copyright (c) 1992-2013 The University of Tennessee and The University\n",
            "                                  of Tennessee Research Foundation.  All rights\n",
            "                                  reserved.\n",
            "          Copyright (c) 2000-2013 The University of California Berkeley. All\n",
            "                                  rights reserved.\n",
            "          Copyright (c) 2006-2013 The University of Colorado Denver.  All rights\n",
            "                                  reserved.\n",
            "        \n",
            "          $COPYRIGHT$\n",
            "        \n",
            "          Additional copyrights may follow\n",
            "        \n",
            "          $HEADER$\n",
            "        \n",
            "          Redistribution and use in source and binary forms, with or without\n",
            "          modification, are permitted provided that the following conditions are\n",
            "          met:\n",
            "        \n",
            "          - Redistributions of source code must retain the above copyright\n",
            "            notice, this list of conditions and the following disclaimer.\n",
            "        \n",
            "          - Redistributions in binary form must reproduce the above copyright\n",
            "            notice, this list of conditions and the following disclaimer listed\n",
            "            in this license in the documentation and/or other materials\n",
            "            provided with the distribution.\n",
            "        \n",
            "          - Neither the name of the copyright holders nor the names of its\n",
            "            contributors may be used to endorse or promote products derived from\n",
            "            this software without specific prior written permission.\n",
            "        \n",
            "          The copyright holders provide no reassurances that the source code\n",
            "          provided does not infringe any patent, copyright, or any other\n",
            "          intellectual property rights of third parties.  The copyright holders\n",
            "          disclaim any liability to any recipient for claims brought against\n",
            "          recipient by any third party for infringement of that parties\n",
            "          intellectual property rights.\n",
            "        \n",
            "          THIS SOFTWARE IS PROVIDED BY THE COPYRIGHT HOLDERS AND CONTRIBUTORS\n",
            "          \"AS IS\" AND ANY EXPRESS OR IMPLIED WARRANTIES, INCLUDING, BUT NOT\n",
            "          LIMITED TO, THE IMPLIED WARRANTIES OF MERCHANTABILITY AND FITNESS FOR\n",
            "          A PARTICULAR PURPOSE ARE DISCLAIMED. IN NO EVENT SHALL THE COPYRIGHT\n",
            "          OWNER OR CONTRIBUTORS BE LIABLE FOR ANY DIRECT, INDIRECT, INCIDENTAL,\n",
            "          SPECIAL, EXEMPLARY, OR CONSEQUENTIAL DAMAGES (INCLUDING, BUT NOT\n",
            "          LIMITED TO, PROCUREMENT OF SUBSTITUTE GOODS OR SERVICES; LOSS OF USE,\n",
            "          DATA, OR PROFITS; OR BUSINESS INTERRUPTION) HOWEVER CAUSED AND ON ANY\n",
            "          THEORY OF LIABILITY, WHETHER IN CONTRACT, STRICT LIABILITY, OR TORT\n",
            "          (INCLUDING NEGLIGENCE OR OTHERWISE) ARISING IN ANY WAY OUT OF THE USE\n",
            "          OF THIS SOFTWARE, EVEN IF ADVISED OF THE POSSIBILITY OF SUCH DAMAGE.\n",
            "        \n",
            "        \n",
            "        Name: GCC runtime library\n",
            "        Files: numpy.libs/libgfortran*.so\n",
            "        Description: dynamically linked to files compiled with gcc\n",
            "        Availability: https://gcc.gnu.org/git/?p=gcc.git;a=tree;f=libgfortran\n",
            "        License: GPL-3.0-with-GCC-exception\n",
            "          Copyright (C) 2002-2017 Free Software Foundation, Inc.\n",
            "        \n",
            "          Libgfortran is free software; you can redistribute it and/or modify\n",
            "          it under the terms of the GNU General Public License as published by\n",
            "          the Free Software Foundation; either version 3, or (at your option)\n",
            "          any later version.\n",
            "        \n",
            "          Libgfortran is distributed in the hope that it will be useful,\n",
            "          but WITHOUT ANY WARRANTY; without even the implied warranty of\n",
            "          MERCHANTABILITY or FITNESS FOR A PARTICULAR PURPOSE.  See the\n",
            "          GNU General Public License for more details.\n",
            "        \n",
            "          Under Section 7 of GPL version 3, you are granted additional\n",
            "          permissions described in the GCC Runtime Library Exception, version\n",
            "          3.1, as published by the Free Software Foundation.\n",
            "        \n",
            "          You should have received a copy of the GNU General Public License and\n",
            "          a copy of the GCC Runtime Library Exception along with this program;\n",
            "          see the files COPYING3 and COPYING.RUNTIME respectively.  If not, see\n",
            "          <http://www.gnu.org/licenses/>.\n",
            "        \n",
            "        ----\n",
            "        \n",
            "        Full text of license texts referred to above follows (that they are\n",
            "        listed below does not necessarily imply the conditions apply to the\n",
            "        present binary release):\n",
            "        \n",
            "        ----\n",
            "        \n",
            "        GCC RUNTIME LIBRARY EXCEPTION\n",
            "        \n",
            "        Version 3.1, 31 March 2009\n",
            "        \n",
            "        Copyright (C) 2009 Free Software Foundation, Inc. <http://fsf.org/>\n",
            "        \n",
            "        Everyone is permitted to copy and distribute verbatim copies of this\n",
            "        license document, but changing it is not allowed.\n",
            "        \n",
            "        This GCC Runtime Library Exception (\"Exception\") is an additional\n",
            "        permission under section 7 of the GNU General Public License, version\n",
            "        3 (\"GPLv3\"). It applies to a given file (the \"Runtime Library\") that\n",
            "        bears a notice placed by the copyright holder of the file stating that\n",
            "        the file is governed by GPLv3 along with this Exception.\n",
            "        \n",
            "        When you use GCC to compile a program, GCC may combine portions of\n",
            "        certain GCC header files and runtime libraries with the compiled\n",
            "        program. The purpose of this Exception is to allow compilation of\n",
            "        non-GPL (including proprietary) programs to use, in this way, the\n",
            "        header files and runtime libraries covered by this Exception.\n",
            "        \n",
            "        0. Definitions.\n",
            "        \n",
            "        A file is an \"Independent Module\" if it either requires the Runtime\n",
            "        Library for execution after a Compilation Process, or makes use of an\n",
            "        interface provided by the Runtime Library, but is not otherwise based\n",
            "        on the Runtime Library.\n",
            "        \n",
            "        \"GCC\" means a version of the GNU Compiler Collection, with or without\n",
            "        modifications, governed by version 3 (or a specified later version) of\n",
            "        the GNU General Public License (GPL) with the option of using any\n",
            "        subsequent versions published by the FSF.\n",
            "        \n",
            "        \"GPL-compatible Software\" is software whose conditions of propagation,\n",
            "        modification and use would permit combination with GCC in accord with\n",
            "        the license of GCC.\n",
            "        \n",
            "        \"Target Code\" refers to output from any compiler for a real or virtual\n",
            "        target processor architecture, in executable form or suitable for\n",
            "        input to an assembler, loader, linker and/or execution\n",
            "        phase. Notwithstanding that, Target Code does not include data in any\n",
            "        format that is used as a compiler intermediate representation, or used\n",
            "        for producing a compiler intermediate representation.\n",
            "        \n",
            "        The \"Compilation Process\" transforms code entirely represented in\n",
            "        non-intermediate languages designed for human-written code, and/or in\n",
            "        Java Virtual Machine byte code, into Target Code. Thus, for example,\n",
            "        use of source code generators and preprocessors need not be considered\n",
            "        part of the Compilation Process, since the Compilation Process can be\n",
            "        understood as starting with the output of the generators or\n",
            "        preprocessors.\n",
            "        \n",
            "        A Compilation Process is \"Eligible\" if it is done using GCC, alone or\n",
            "        with other GPL-compatible software, or if it is done without using any\n",
            "        work based on GCC. For example, using non-GPL-compatible Software to\n",
            "        optimize any GCC intermediate representations would not qualify as an\n",
            "        Eligible Compilation Process.\n",
            "        \n",
            "        1. Grant of Additional Permission.\n",
            "        \n",
            "        You have permission to propagate a work of Target Code formed by\n",
            "        combining the Runtime Library with Independent Modules, even if such\n",
            "        propagation would otherwise violate the terms of GPLv3, provided that\n",
            "        all Target Code was generated by Eligible Compilation Processes. You\n",
            "        may then convey such a combination under terms of your choice,\n",
            "        consistent with the licensing of the Independent Modules.\n",
            "        \n",
            "        2. No Weakening of GCC Copyleft.\n",
            "        \n",
            "        The availability of this Exception does not imply any general\n",
            "        presumption that third-party software is unaffected by the copyleft\n",
            "        requirements of the license of GCC.\n",
            "        \n",
            "        ----\n",
            "        \n",
            "                            GNU GENERAL PUBLIC LICENSE\n",
            "                               Version 3, 29 June 2007\n",
            "        \n",
            "         Copyright (C) 2007 Free Software Foundation, Inc. <http://fsf.org/>\n",
            "         Everyone is permitted to copy and distribute verbatim copies\n",
            "         of this license document, but changing it is not allowed.\n",
            "        \n",
            "                                    Preamble\n",
            "        \n",
            "          The GNU General Public License is a free, copyleft license for\n",
            "        software and other kinds of works.\n",
            "        \n",
            "          The licenses for most software and other practical works are designed\n",
            "        to take away your freedom to share and change the works.  By contrast,\n",
            "        the GNU General Public License is intended to guarantee your freedom to\n",
            "        share and change all versions of a program--to make sure it remains free\n",
            "        software for all its users.  We, the Free Software Foundation, use the\n",
            "        GNU General Public License for most of our software; it applies also to\n",
            "        any other work released this way by its authors.  You can apply it to\n",
            "        your programs, too.\n",
            "        \n",
            "          When we speak of free software, we are referring to freedom, not\n",
            "        price.  Our General Public Licenses are designed to make sure that you\n",
            "        have the freedom to distribute copies of free software (and charge for\n",
            "        them if you wish), that you receive source code or can get it if you\n",
            "        want it, that you can change the software or use pieces of it in new\n",
            "        free programs, and that you know you can do these things.\n",
            "        \n",
            "          To protect your rights, we need to prevent others from denying you\n",
            "        these rights or asking you to surrender the rights.  Therefore, you have\n",
            "        certain responsibilities if you distribute copies of the software, or if\n",
            "        you modify it: responsibilities to respect the freedom of others.\n",
            "        \n",
            "          For example, if you distribute copies of such a program, whether\n",
            "        gratis or for a fee, you must pass on to the recipients the same\n",
            "        freedoms that you received.  You must make sure that they, too, receive\n",
            "        or can get the source code.  And you must show them these terms so they\n",
            "        know their rights.\n",
            "        \n",
            "          Developers that use the GNU GPL protect your rights with two steps:\n",
            "        (1) assert copyright on the software, and (2) offer you this License\n",
            "        giving you legal permission to copy, distribute and/or modify it.\n",
            "        \n",
            "          For the developers' and authors' protection, the GPL clearly explains\n",
            "        that there is no warranty for this free software.  For both users' and\n",
            "        authors' sake, the GPL requires that modified versions be marked as\n",
            "        changed, so that their problems will not be attributed erroneously to\n",
            "        authors of previous versions.\n",
            "        \n",
            "          Some devices are designed to deny users access to install or run\n",
            "        modified versions of the software inside them, although the manufacturer\n",
            "        can do so.  This is fundamentally incompatible with the aim of\n",
            "        protecting users' freedom to change the software.  The systematic\n",
            "        pattern of such abuse occurs in the area of products for individuals to\n",
            "        use, which is precisely where it is most unacceptable.  Therefore, we\n",
            "        have designed this version of the GPL to prohibit the practice for those\n",
            "        products.  If such problems arise substantially in other domains, we\n",
            "        stand ready to extend this provision to those domains in future versions\n",
            "        of the GPL, as needed to protect the freedom of users.\n",
            "        \n",
            "          Finally, every program is threatened constantly by software patents.\n",
            "        States should not allow patents to restrict development and use of\n",
            "        software on general-purpose computers, but in those that do, we wish to\n",
            "        avoid the special danger that patents applied to a free program could\n",
            "        make it effectively proprietary.  To prevent this, the GPL assures that\n",
            "        patents cannot be used to render the program non-free.\n",
            "        \n",
            "          The precise terms and conditions for copying, distribution and\n",
            "        modification follow.\n",
            "        \n",
            "                               TERMS AND CONDITIONS\n",
            "        \n",
            "          0. Definitions.\n",
            "        \n",
            "          \"This License\" refers to version 3 of the GNU General Public License.\n",
            "        \n",
            "          \"Copyright\" also means copyright-like laws that apply to other kinds of\n",
            "        works, such as semiconductor masks.\n",
            "        \n",
            "          \"The Program\" refers to any copyrightable work licensed under this\n",
            "        License.  Each licensee is addressed as \"you\".  \"Licensees\" and\n",
            "        \"recipients\" may be individuals or organizations.\n",
            "        \n",
            "          To \"modify\" a work means to copy from or adapt all or part of the work\n",
            "        in a fashion requiring copyright permission, other than the making of an\n",
            "        exact copy.  The resulting work is called a \"modified version\" of the\n",
            "        earlier work or a work \"based on\" the earlier work.\n",
            "        \n",
            "          A \"covered work\" means either the unmodified Program or a work based\n",
            "        on the Program.\n",
            "        \n",
            "          To \"propagate\" a work means to do anything with it that, without\n",
            "        permission, would make you directly or secondarily liable for\n",
            "        infringement under applicable copyright law, except executing it on a\n",
            "        computer or modifying a private copy.  Propagation includes copying,\n",
            "        distribution (with or without modification), making available to the\n",
            "        public, and in some countries other activities as well.\n",
            "        \n",
            "          To \"convey\" a work means any kind of propagation that enables other\n",
            "        parties to make or receive copies.  Mere interaction with a user through\n",
            "        a computer network, with no transfer of a copy, is not conveying.\n",
            "        \n",
            "          An interactive user interface displays \"Appropriate Legal Notices\"\n",
            "        to the extent that it includes a convenient and prominently visible\n",
            "        feature that (1) displays an appropriate copyright notice, and (2)\n",
            "        tells the user that there is no warranty for the work (except to the\n",
            "        extent that warranties are provided), that licensees may convey the\n",
            "        work under this License, and how to view a copy of this License.  If\n",
            "        the interface presents a list of user commands or options, such as a\n",
            "        menu, a prominent item in the list meets this criterion.\n",
            "        \n",
            "          1. Source Code.\n",
            "        \n",
            "          The \"source code\" for a work means the preferred form of the work\n",
            "        for making modifications to it.  \"Object code\" means any non-source\n",
            "        form of a work.\n",
            "        \n",
            "          A \"Standard Interface\" means an interface that either is an official\n",
            "        standard defined by a recognized standards body, or, in the case of\n",
            "        interfaces specified for a particular programming language, one that\n",
            "        is widely used among developers working in that language.\n",
            "        \n",
            "          The \"System Libraries\" of an executable work include anything, other\n",
            "        than the work as a whole, that (a) is included in the normal form of\n",
            "        packaging a Major Component, but which is not part of that Major\n",
            "        Component, and (b) serves only to enable use of the work with that\n",
            "        Major Component, or to implement a Standard Interface for which an\n",
            "        implementation is available to the public in source code form.  A\n",
            "        \"Major Component\", in this context, means a major essential component\n",
            "        (kernel, window system, and so on) of the specific operating system\n",
            "        (if any) on which the executable work runs, or a compiler used to\n",
            "        produce the work, or an object code interpreter used to run it.\n",
            "        \n",
            "          The \"Corresponding Source\" for a work in object code form means all\n",
            "        the source code needed to generate, install, and (for an executable\n",
            "        work) run the object code and to modify the work, including scripts to\n",
            "        control those activities.  However, it does not include the work's\n",
            "        System Libraries, or general-purpose tools or generally available free\n",
            "        programs which are used unmodified in performing those activities but\n",
            "        which are not part of the work.  For example, Corresponding Source\n",
            "        includes interface definition files associated with source files for\n",
            "        the work, and the source code for shared libraries and dynamically\n",
            "        linked subprograms that the work is specifically designed to require,\n",
            "        such as by intimate data communication or control flow between those\n",
            "        subprograms and other parts of the work.\n",
            "        \n",
            "          The Corresponding Source need not include anything that users\n",
            "        can regenerate automatically from other parts of the Corresponding\n",
            "        Source.\n",
            "        \n",
            "          The Corresponding Source for a work in source code form is that\n",
            "        same work.\n",
            "        \n",
            "          2. Basic Permissions.\n",
            "        \n",
            "          All rights granted under this License are granted for the term of\n",
            "        copyright on the Program, and are irrevocable provided the stated\n",
            "        conditions are met.  This License explicitly affirms your unlimited\n",
            "        permission to run the unmodified Program.  The output from running a\n",
            "        covered work is covered by this License only if the output, given its\n",
            "        content, constitutes a covered work.  This License acknowledges your\n",
            "        rights of fair use or other equivalent, as provided by copyright law.\n",
            "        \n",
            "          You may make, run and propagate covered works that you do not\n",
            "        convey, without conditions so long as your license otherwise remains\n",
            "        in force.  You may convey covered works to others for the sole purpose\n",
            "        of having them make modifications exclusively for you, or provide you\n",
            "        with facilities for running those works, provided that you comply with\n",
            "        the terms of this License in conveying all material for which you do\n",
            "        not control copyright.  Those thus making or running the covered works\n",
            "        for you must do so exclusively on your behalf, under your direction\n",
            "        and control, on terms that prohibit them from making any copies of\n",
            "        your copyrighted material outside their relationship with you.\n",
            "        \n",
            "          Conveying under any other circumstances is permitted solely under\n",
            "        the conditions stated below.  Sublicensing is not allowed; section 10\n",
            "        makes it unnecessary.\n",
            "        \n",
            "          3. Protecting Users' Legal Rights From Anti-Circumvention Law.\n",
            "        \n",
            "          No covered work shall be deemed part of an effective technological\n",
            "        measure under any applicable law fulfilling obligations under article\n",
            "        11 of the WIPO copyright treaty adopted on 20 December 1996, or\n",
            "        similar laws prohibiting or restricting circumvention of such\n",
            "        measures.\n",
            "        \n",
            "          When you convey a covered work, you waive any legal power to forbid\n",
            "        circumvention of technological measures to the extent such circumvention\n",
            "        is effected by exercising rights under this License with respect to\n",
            "        the covered work, and you disclaim any intention to limit operation or\n",
            "        modification of the work as a means of enforcing, against the work's\n",
            "        users, your or third parties' legal rights to forbid circumvention of\n",
            "        technological measures.\n",
            "        \n",
            "          4. Conveying Verbatim Copies.\n",
            "        \n",
            "          You may convey verbatim copies of the Program's source code as you\n",
            "        receive it, in any medium, provided that you conspicuously and\n",
            "        appropriately publish on each copy an appropriate copyright notice;\n",
            "        keep intact all notices stating that this License and any\n",
            "        non-permissive terms added in accord with section 7 apply to the code;\n",
            "        keep intact all notices of the absence of any warranty; and give all\n",
            "        recipients a copy of this License along with the Program.\n",
            "        \n",
            "          You may charge any price or no price for each copy that you convey,\n",
            "        and you may offer support or warranty protection for a fee.\n",
            "        \n",
            "          5. Conveying Modified Source Versions.\n",
            "        \n",
            "          You may convey a work based on the Program, or the modifications to\n",
            "        produce it from the Program, in the form of source code under the\n",
            "        terms of section 4, provided that you also meet all of these conditions:\n",
            "        \n",
            "            a) The work must carry prominent notices stating that you modified\n",
            "            it, and giving a relevant date.\n",
            "        \n",
            "            b) The work must carry prominent notices stating that it is\n",
            "            released under this License and any conditions added under section\n",
            "            7.  This requirement modifies the requirement in section 4 to\n",
            "            \"keep intact all notices\".\n",
            "        \n",
            "            c) You must license the entire work, as a whole, under this\n",
            "            License to anyone who comes into possession of a copy.  This\n",
            "            License will therefore apply, along with any applicable section 7\n",
            "            additional terms, to the whole of the work, and all its parts,\n",
            "            regardless of how they are packaged.  This License gives no\n",
            "            permission to license the work in any other way, but it does not\n",
            "            invalidate such permission if you have separately received it.\n",
            "        \n",
            "            d) If the work has interactive user interfaces, each must display\n",
            "            Appropriate Legal Notices; however, if the Program has interactive\n",
            "            interfaces that do not display Appropriate Legal Notices, your\n",
            "            work need not make them do so.\n",
            "        \n",
            "          A compilation of a covered work with other separate and independent\n",
            "        works, which are not by their nature extensions of the covered work,\n",
            "        and which are not combined with it such as to form a larger program,\n",
            "        in or on a volume of a storage or distribution medium, is called an\n",
            "        \"aggregate\" if the compilation and its resulting copyright are not\n",
            "        used to limit the access or legal rights of the compilation's users\n",
            "        beyond what the individual works permit.  Inclusion of a covered work\n",
            "        in an aggregate does not cause this License to apply to the other\n",
            "        parts of the aggregate.\n",
            "        \n",
            "          6. Conveying Non-Source Forms.\n",
            "        \n",
            "          You may convey a covered work in object code form under the terms\n",
            "        of sections 4 and 5, provided that you also convey the\n",
            "        machine-readable Corresponding Source under the terms of this License,\n",
            "        in one of these ways:\n",
            "        \n",
            "            a) Convey the object code in, or embodied in, a physical product\n",
            "            (including a physical distribution medium), accompanied by the\n",
            "            Corresponding Source fixed on a durable physical medium\n",
            "            customarily used for software interchange.\n",
            "        \n",
            "            b) Convey the object code in, or embodied in, a physical product\n",
            "            (including a physical distribution medium), accompanied by a\n",
            "            written offer, valid for at least three years and valid for as\n",
            "            long as you offer spare parts or customer support for that product\n",
            "            model, to give anyone who possesses the object code either (1) a\n",
            "            copy of the Corresponding Source for all the software in the\n",
            "            product that is covered by this License, on a durable physical\n",
            "            medium customarily used for software interchange, for a price no\n",
            "            more than your reasonable cost of physically performing this\n",
            "            conveying of source, or (2) access to copy the\n",
            "            Corresponding Source from a network server at no charge.\n",
            "        \n",
            "            c) Convey individual copies of the object code with a copy of the\n",
            "            written offer to provide the Corresponding Source.  This\n",
            "            alternative is allowed only occasionally and noncommercially, and\n",
            "            only if you received the object code with such an offer, in accord\n",
            "            with subsection 6b.\n",
            "        \n",
            "            d) Convey the object code by offering access from a designated\n",
            "            place (gratis or for a charge), and offer equivalent access to the\n",
            "            Corresponding Source in the same way through the same place at no\n",
            "            further charge.  You need not require recipients to copy the\n",
            "            Corresponding Source along with the object code.  If the place to\n",
            "            copy the object code is a network server, the Corresponding Source\n",
            "            may be on a different server (operated by you or a third party)\n",
            "            that supports equivalent copying facilities, provided you maintain\n",
            "            clear directions next to the object code saying where to find the\n",
            "            Corresponding Source.  Regardless of what server hosts the\n",
            "            Corresponding Source, you remain obligated to ensure that it is\n",
            "            available for as long as needed to satisfy these requirements.\n",
            "        \n",
            "            e) Convey the object code using peer-to-peer transmission, provided\n",
            "            you inform other peers where the object code and Corresponding\n",
            "            Source of the work are being offered to the general public at no\n",
            "            charge under subsection 6d.\n",
            "        \n",
            "          A separable portion of the object code, whose source code is excluded\n",
            "        from the Corresponding Source as a System Library, need not be\n",
            "        included in conveying the object code work.\n",
            "        \n",
            "          A \"User Product\" is either (1) a \"consumer product\", which means any\n",
            "        tangible personal property which is normally used for personal, family,\n",
            "        or household purposes, or (2) anything designed or sold for incorporation\n",
            "        into a dwelling.  In determining whether a product is a consumer product,\n",
            "        doubtful cases shall be resolved in favor of coverage.  For a particular\n",
            "        product received by a particular user, \"normally used\" refers to a\n",
            "        typical or common use of that class of product, regardless of the status\n",
            "        of the particular user or of the way in which the particular user\n",
            "        actually uses, or expects or is expected to use, the product.  A product\n",
            "        is a consumer product regardless of whether the product has substantial\n",
            "        commercial, industrial or non-consumer uses, unless such uses represent\n",
            "        the only significant mode of use of the product.\n",
            "        \n",
            "          \"Installation Information\" for a User Product means any methods,\n",
            "        procedures, authorization keys, or other information required to install\n",
            "        and execute modified versions of a covered work in that User Product from\n",
            "        a modified version of its Corresponding Source.  The information must\n",
            "        suffice to ensure that the continued functioning of the modified object\n",
            "        code is in no case prevented or interfered with solely because\n",
            "        modification has been made.\n",
            "        \n",
            "          If you convey an object code work under this section in, or with, or\n",
            "        specifically for use in, a User Product, and the conveying occurs as\n",
            "        part of a transaction in which the right of possession and use of the\n",
            "        User Product is transferred to the recipient in perpetuity or for a\n",
            "        fixed term (regardless of how the transaction is characterized), the\n",
            "        Corresponding Source conveyed under this section must be accompanied\n",
            "        by the Installation Information.  But this requirement does not apply\n",
            "        if neither you nor any third party retains the ability to install\n",
            "        modified object code on the User Product (for example, the work has\n",
            "        been installed in ROM).\n",
            "        \n",
            "          The requirement to provide Installation Information does not include a\n",
            "        requirement to continue to provide support service, warranty, or updates\n",
            "        for a work that has been modified or installed by the recipient, or for\n",
            "        the User Product in which it has been modified or installed.  Access to a\n",
            "        network may be denied when the modification itself materially and\n",
            "        adversely affects the operation of the network or violates the rules and\n",
            "        protocols for communication across the network.\n",
            "        \n",
            "          Corresponding Source conveyed, and Installation Information provided,\n",
            "        in accord with this section must be in a format that is publicly\n",
            "        documented (and with an implementation available to the public in\n",
            "        source code form), and must require no special password or key for\n",
            "        unpacking, reading or copying.\n",
            "        \n",
            "          7. Additional Terms.\n",
            "        \n",
            "          \"Additional permissions\" are terms that supplement the terms of this\n",
            "        License by making exceptions from one or more of its conditions.\n",
            "        Additional permissions that are applicable to the entire Program shall\n",
            "        be treated as though they were included in this License, to the extent\n",
            "        that they are valid under applicable law.  If additional permissions\n",
            "        apply only to part of the Program, that part may be used separately\n",
            "        under those permissions, but the entire Program remains governed by\n",
            "        this License without regard to the additional permissions.\n",
            "        \n",
            "          When you convey a copy of a covered work, you may at your option\n",
            "        remove any additional permissions from that copy, or from any part of\n",
            "        it.  (Additional permissions may be written to require their own\n",
            "        removal in certain cases when you modify the work.)  You may place\n",
            "        additional permissions on material, added by you to a covered work,\n",
            "        for which you have or can give appropriate copyright permission.\n",
            "        \n",
            "          Notwithstanding any other provision of this License, for material you\n",
            "        add to a covered work, you may (if authorized by the copyright holders of\n",
            "        that material) supplement the terms of this License with terms:\n",
            "        \n",
            "            a) Disclaiming warranty or limiting liability differently from the\n",
            "            terms of sections 15 and 16 of this License; or\n",
            "        \n",
            "            b) Requiring preservation of specified reasonable legal notices or\n",
            "            author attributions in that material or in the Appropriate Legal\n",
            "            Notices displayed by works containing it; or\n",
            "        \n",
            "            c) Prohibiting misrepresentation of the origin of that material, or\n",
            "            requiring that modified versions of such material be marked in\n",
            "            reasonable ways as different from the original version; or\n",
            "        \n",
            "            d) Limiting the use for publicity purposes of names of licensors or\n",
            "            authors of the material; or\n",
            "        \n",
            "            e) Declining to grant rights under trademark law for use of some\n",
            "            trade names, trademarks, or service marks; or\n",
            "        \n",
            "            f) Requiring indemnification of licensors and authors of that\n",
            "            material by anyone who conveys the material (or modified versions of\n",
            "            it) with contractual assumptions of liability to the recipient, for\n",
            "            any liability that these contractual assumptions directly impose on\n",
            "            those licensors and authors.\n",
            "        \n",
            "          All other non-permissive additional terms are considered \"further\n",
            "        restrictions\" within the meaning of section 10.  If the Program as you\n",
            "        received it, or any part of it, contains a notice stating that it is\n",
            "        governed by this License along with a term that is a further\n",
            "        restriction, you may remove that term.  If a license document contains\n",
            "        a further restriction but permits relicensing or conveying under this\n",
            "        License, you may add to a covered work material governed by the terms\n",
            "        of that license document, provided that the further restriction does\n",
            "        not survive such relicensing or conveying.\n",
            "        \n",
            "          If you add terms to a covered work in accord with this section, you\n",
            "        must place, in the relevant source files, a statement of the\n",
            "        additional terms that apply to those files, or a notice indicating\n",
            "        where to find the applicable terms.\n",
            "        \n",
            "          Additional terms, permissive or non-permissive, may be stated in the\n",
            "        form of a separately written license, or stated as exceptions;\n",
            "        the above requirements apply either way.\n",
            "        \n",
            "          8. Termination.\n",
            "        \n",
            "          You may not propagate or modify a covered work except as expressly\n",
            "        provided under this License.  Any attempt otherwise to propagate or\n",
            "        modify it is void, and will automatically terminate your rights under\n",
            "        this License (including any patent licenses granted under the third\n",
            "        paragraph of section 11).\n",
            "        \n",
            "          However, if you cease all violation of this License, then your\n",
            "        license from a particular copyright holder is reinstated (a)\n",
            "        provisionally, unless and until the copyright holder explicitly and\n",
            "        finally terminates your license, and (b) permanently, if the copyright\n",
            "        holder fails to notify you of the violation by some reasonable means\n",
            "        prior to 60 days after the cessation.\n",
            "        \n",
            "          Moreover, your license from a particular copyright holder is\n",
            "        reinstated permanently if the copyright holder notifies you of the\n",
            "        violation by some reasonable means, this is the first time you have\n",
            "        received notice of violation of this License (for any work) from that\n",
            "        copyright holder, and you cure the violation prior to 30 days after\n",
            "        your receipt of the notice.\n",
            "        \n",
            "          Termination of your rights under this section does not terminate the\n",
            "        licenses of parties who have received copies or rights from you under\n",
            "        this License.  If your rights have been terminated and not permanently\n",
            "        reinstated, you do not qualify to receive new licenses for the same\n",
            "        material under section 10.\n",
            "        \n",
            "          9. Acceptance Not Required for Having Copies.\n",
            "        \n",
            "          You are not required to accept this License in order to receive or\n",
            "        run a copy of the Program.  Ancillary propagation of a covered work\n",
            "        occurring solely as a consequence of using peer-to-peer transmission\n",
            "        to receive a copy likewise does not require acceptance.  However,\n",
            "        nothing other than this License grants you permission to propagate or\n",
            "        modify any covered work.  These actions infringe copyright if you do\n",
            "        not accept this License.  Therefore, by modifying or propagating a\n",
            "        covered work, you indicate your acceptance of this License to do so.\n",
            "        \n",
            "          10. Automatic Licensing of Downstream Recipients.\n",
            "        \n",
            "          Each time you convey a covered work, the recipient automatically\n",
            "        receives a license from the original licensors, to run, modify and\n",
            "        propagate that work, subject to this License.  You are not responsible\n",
            "        for enforcing compliance by third parties with this License.\n",
            "        \n",
            "          An \"entity transaction\" is a transaction transferring control of an\n",
            "        organization, or substantially all assets of one, or subdividing an\n",
            "        organization, or merging organizations.  If propagation of a covered\n",
            "        work results from an entity transaction, each party to that\n",
            "        transaction who receives a copy of the work also receives whatever\n",
            "        licenses to the work the party's predecessor in interest had or could\n",
            "        give under the previous paragraph, plus a right to possession of the\n",
            "        Corresponding Source of the work from the predecessor in interest, if\n",
            "        the predecessor has it or can get it with reasonable efforts.\n",
            "        \n",
            "          You may not impose any further restrictions on the exercise of the\n",
            "        rights granted or affirmed under this License.  For example, you may\n",
            "        not impose a license fee, royalty, or other charge for exercise of\n",
            "        rights granted under this License, and you may not initiate litigation\n",
            "        (including a cross-claim or counterclaim in a lawsuit) alleging that\n",
            "        any patent claim is infringed by making, using, selling, offering for\n",
            "        sale, or importing the Program or any portion of it.\n",
            "        \n",
            "          11. Patents.\n",
            "        \n",
            "          A \"contributor\" is a copyright holder who authorizes use under this\n",
            "        License of the Program or a work on which the Program is based.  The\n",
            "        work thus licensed is called the contributor's \"contributor version\".\n",
            "        \n",
            "          A contributor's \"essential patent claims\" are all patent claims\n",
            "        owned or controlled by the contributor, whether already acquired or\n",
            "        hereafter acquired, that would be infringed by some manner, permitted\n",
            "        by this License, of making, using, or selling its contributor version,\n",
            "        but do not include claims that would be infringed only as a\n",
            "        consequence of further modification of the contributor version.  For\n",
            "        purposes of this definition, \"control\" includes the right to grant\n",
            "        patent sublicenses in a manner consistent with the requirements of\n",
            "        this License.\n",
            "        \n",
            "          Each contributor grants you a non-exclusive, worldwide, royalty-free\n",
            "        patent license under the contributor's essential patent claims, to\n",
            "        make, use, sell, offer for sale, import and otherwise run, modify and\n",
            "        propagate the contents of its contributor version.\n",
            "        \n",
            "          In the following three paragraphs, a \"patent license\" is any express\n",
            "        agreement or commitment, however denominated, not to enforce a patent\n",
            "        (such as an express permission to practice a patent or covenant not to\n",
            "        sue for patent infringement).  To \"grant\" such a patent license to a\n",
            "        party means to make such an agreement or commitment not to enforce a\n",
            "        patent against the party.\n",
            "        \n",
            "          If you convey a covered work, knowingly relying on a patent license,\n",
            "        and the Corresponding Source of the work is not available for anyone\n",
            "        to copy, free of charge and under the terms of this License, through a\n",
            "        publicly available network server or other readily accessible means,\n",
            "        then you must either (1) cause the Corresponding Source to be so\n",
            "        available, or (2) arrange to deprive yourself of the benefit of the\n",
            "        patent license for this particular work, or (3) arrange, in a manner\n",
            "        consistent with the requirements of this License, to extend the patent\n",
            "        license to downstream recipients.  \"Knowingly relying\" means you have\n",
            "        actual knowledge that, but for the patent license, your conveying the\n",
            "        covered work in a country, or your recipient's use of the covered work\n",
            "        in a country, would infringe one or more identifiable patents in that\n",
            "        country that you have reason to believe are valid.\n",
            "        \n",
            "          If, pursuant to or in connection with a single transaction or\n",
            "        arrangement, you convey, or propagate by procuring conveyance of, a\n",
            "        covered work, and grant a patent license to some of the parties\n",
            "        receiving the covered work authorizing them to use, propagate, modify\n",
            "        or convey a specific copy of the covered work, then the patent license\n",
            "        you grant is automatically extended to all recipients of the covered\n",
            "        work and works based on it.\n",
            "        \n",
            "          A patent license is \"discriminatory\" if it does not include within\n",
            "        the scope of its coverage, prohibits the exercise of, or is\n",
            "        conditioned on the non-exercise of one or more of the rights that are\n",
            "        specifically granted under this License.  You may not convey a covered\n",
            "        work if you are a party to an arrangement with a third party that is\n",
            "        in the business of distributing software, under which you make payment\n",
            "        to the third party based on the extent of your activity of conveying\n",
            "        the work, and under which the third party grants, to any of the\n",
            "        parties who would receive the covered work from you, a discriminatory\n",
            "        patent license (a) in connection with copies of the covered work\n",
            "        conveyed by you (or copies made from those copies), or (b) primarily\n",
            "        for and in connection with specific products or compilations that\n",
            "        contain the covered work, unless you entered into that arrangement,\n",
            "        or that patent license was granted, prior to 28 March 2007.\n",
            "        \n",
            "          Nothing in this License shall be construed as excluding or limiting\n",
            "        any implied license or other defenses to infringement that may\n",
            "        otherwise be available to you under applicable patent law.\n",
            "        \n",
            "          12. No Surrender of Others' Freedom.\n",
            "        \n",
            "          If conditions are imposed on you (whether by court order, agreement or\n",
            "        otherwise) that contradict the conditions of this License, they do not\n",
            "        excuse you from the conditions of this License.  If you cannot convey a\n",
            "        covered work so as to satisfy simultaneously your obligations under this\n",
            "        License and any other pertinent obligations, then as a consequence you may\n",
            "        not convey it at all.  For example, if you agree to terms that obligate you\n",
            "        to collect a royalty for further conveying from those to whom you convey\n",
            "        the Program, the only way you could satisfy both those terms and this\n",
            "        License would be to refrain entirely from conveying the Program.\n",
            "        \n",
            "          13. Use with the GNU Affero General Public License.\n",
            "        \n",
            "          Notwithstanding any other provision of this License, you have\n",
            "        permission to link or combine any covered work with a work licensed\n",
            "        under version 3 of the GNU Affero General Public License into a single\n",
            "        combined work, and to convey the resulting work.  The terms of this\n",
            "        License will continue to apply to the part which is the covered work,\n",
            "        but the special requirements of the GNU Affero General Public License,\n",
            "        section 13, concerning interaction through a network will apply to the\n",
            "        combination as such.\n",
            "        \n",
            "          14. Revised Versions of this License.\n",
            "        \n",
            "          The Free Software Foundation may publish revised and/or new versions of\n",
            "        the GNU General Public License from time to time.  Such new versions will\n",
            "        be similar in spirit to the present version, but may differ in detail to\n",
            "        address new problems or concerns.\n",
            "        \n",
            "          Each version is given a distinguishing version number.  If the\n",
            "        Program specifies that a certain numbered version of the GNU General\n",
            "        Public License \"or any later version\" applies to it, you have the\n",
            "        option of following the terms and conditions either of that numbered\n",
            "        version or of any later version published by the Free Software\n",
            "        Foundation.  If the Program does not specify a version number of the\n",
            "        GNU General Public License, you may choose any version ever published\n",
            "        by the Free Software Foundation.\n",
            "        \n",
            "          If the Program specifies that a proxy can decide which future\n",
            "        versions of the GNU General Public License can be used, that proxy's\n",
            "        public statement of acceptance of a version permanently authorizes you\n",
            "        to choose that version for the Program.\n",
            "        \n",
            "          Later license versions may give you additional or different\n",
            "        permissions.  However, no additional obligations are imposed on any\n",
            "        author or copyright holder as a result of your choosing to follow a\n",
            "        later version.\n",
            "        \n",
            "          15. Disclaimer of Warranty.\n",
            "        \n",
            "          THERE IS NO WARRANTY FOR THE PROGRAM, TO THE EXTENT PERMITTED BY\n",
            "        APPLICABLE LAW.  EXCEPT WHEN OTHERWISE STATED IN WRITING THE COPYRIGHT\n",
            "        HOLDERS AND/OR OTHER PARTIES PROVIDE THE PROGRAM \"AS IS\" WITHOUT WARRANTY\n",
            "        OF ANY KIND, EITHER EXPRESSED OR IMPLIED, INCLUDING, BUT NOT LIMITED TO,\n",
            "        THE IMPLIED WARRANTIES OF MERCHANTABILITY AND FITNESS FOR A PARTICULAR\n",
            "        PURPOSE.  THE ENTIRE RISK AS TO THE QUALITY AND PERFORMANCE OF THE PROGRAM\n",
            "        IS WITH YOU.  SHOULD THE PROGRAM PROVE DEFECTIVE, YOU ASSUME THE COST OF\n",
            "        ALL NECESSARY SERVICING, REPAIR OR CORRECTION.\n",
            "        \n",
            "          16. Limitation of Liability.\n",
            "        \n",
            "          IN NO EVENT UNLESS REQUIRED BY APPLICABLE LAW OR AGREED TO IN WRITING\n",
            "        WILL ANY COPYRIGHT HOLDER, OR ANY OTHER PARTY WHO MODIFIES AND/OR CONVEYS\n",
            "        THE PROGRAM AS PERMITTED ABOVE, BE LIABLE TO YOU FOR DAMAGES, INCLUDING ANY\n",
            "        GENERAL, SPECIAL, INCIDENTAL OR CONSEQUENTIAL DAMAGES ARISING OUT OF THE\n",
            "        USE OR INABILITY TO USE THE PROGRAM (INCLUDING BUT NOT LIMITED TO LOSS OF\n",
            "        DATA OR DATA BEING RENDERED INACCURATE OR LOSSES SUSTAINED BY YOU OR THIRD\n",
            "        PARTIES OR A FAILURE OF THE PROGRAM TO OPERATE WITH ANY OTHER PROGRAMS),\n",
            "        EVEN IF SUCH HOLDER OR OTHER PARTY HAS BEEN ADVISED OF THE POSSIBILITY OF\n",
            "        SUCH DAMAGES.\n",
            "        \n",
            "          17. Interpretation of Sections 15 and 16.\n",
            "        \n",
            "          If the disclaimer of warranty and limitation of liability provided\n",
            "        above cannot be given local legal effect according to their terms,\n",
            "        reviewing courts shall apply local law that most closely approximates\n",
            "        an absolute waiver of all civil liability in connection with the\n",
            "        Program, unless a warranty or assumption of liability accompanies a\n",
            "        copy of the Program in return for a fee.\n",
            "        \n",
            "                             END OF TERMS AND CONDITIONS\n",
            "        \n",
            "                    How to Apply These Terms to Your New Programs\n",
            "        \n",
            "          If you develop a new program, and you want it to be of the greatest\n",
            "        possible use to the public, the best way to achieve this is to make it\n",
            "        free software which everyone can redistribute and change under these terms.\n",
            "        \n",
            "          To do so, attach the following notices to the program.  It is safest\n",
            "        to attach them to the start of each source file to most effectively\n",
            "        state the exclusion of warranty; and each file should have at least\n",
            "        the \"copyright\" line and a pointer to where the full notice is found.\n",
            "        \n",
            "            <one line to give the program's name and a brief idea of what it does.>\n",
            "            Copyright (C) <year>  <name of author>\n",
            "        \n",
            "            This program is free software: you can redistribute it and/or modify\n",
            "            it under the terms of the GNU General Public License as published by\n",
            "            the Free Software Foundation, either version 3 of the License, or\n",
            "            (at your option) any later version.\n",
            "        \n",
            "            This program is distributed in the hope that it will be useful,\n",
            "            but WITHOUT ANY WARRANTY; without even the implied warranty of\n",
            "            MERCHANTABILITY or FITNESS FOR A PARTICULAR PURPOSE.  See the\n",
            "            GNU General Public License for more details.\n",
            "        \n",
            "            You should have received a copy of the GNU General Public License\n",
            "            along with this program.  If not, see <http://www.gnu.org/licenses/>.\n",
            "        \n",
            "        Also add information on how to contact you by electronic and paper mail.\n",
            "        \n",
            "          If the program does terminal interaction, make it output a short\n",
            "        notice like this when it starts in an interactive mode:\n",
            "        \n",
            "            <program>  Copyright (C) <year>  <name of author>\n",
            "            This program comes with ABSOLUTELY NO WARRANTY; for details type `show w'.\n",
            "            This is free software, and you are welcome to redistribute it\n",
            "            under certain conditions; type `show c' for details.\n",
            "        \n",
            "        The hypothetical commands `show w' and `show c' should show the appropriate\n",
            "        parts of the General Public License.  Of course, your program's commands\n",
            "        might be different; for a GUI interface, you would use an \"about box\".\n",
            "        \n",
            "          You should also get your employer (if you work as a programmer) or school,\n",
            "        if any, to sign a \"copyright disclaimer\" for the program, if necessary.\n",
            "        For more information on this, and how to apply and follow the GNU GPL, see\n",
            "        <http://www.gnu.org/licenses/>.\n",
            "        \n",
            "          The GNU General Public License does not permit incorporating your program\n",
            "        into proprietary programs.  If your program is a subroutine library, you\n",
            "        may consider it more useful to permit linking proprietary applications with\n",
            "        the library.  If this is what you want to do, use the GNU Lesser General\n",
            "        Public License instead of this License.  But first, please read\n",
            "        <http://www.gnu.org/philosophy/why-not-lgpl.html>.\n",
            "        \n",
            "        Name: libquadmath\n",
            "        Files: numpy.libs/libquadmath*.so\n",
            "        Description: dynamically linked to files compiled with gcc\n",
            "        Availability: https://gcc.gnu.org/git/?p=gcc.git;a=tree;f=libquadmath\n",
            "        License: LGPL-2.1-or-later\n",
            "        \n",
            "            GCC Quad-Precision Math Library\n",
            "            Copyright (C) 2010-2019 Free Software Foundation, Inc.\n",
            "            Written by Francois-Xavier Coudert  <fxcoudert@gcc.gnu.org>\n",
            "        \n",
            "            This file is part of the libquadmath library.\n",
            "            Libquadmath is free software; you can redistribute it and/or\n",
            "            modify it under the terms of the GNU Library General Public\n",
            "            License as published by the Free Software Foundation; either\n",
            "            version 2.1 of the License, or (at your option) any later version.\n",
            "        \n",
            "            Libquadmath is distributed in the hope that it will be useful,\n",
            "            but WITHOUT ANY WARRANTY; without even the implied warranty of\n",
            "            MERCHANTABILITY or FITNESS FOR A PARTICULAR PURPOSE.  See the GNU\n",
            "            Lesser General Public License for more details.\n",
            "            https://www.gnu.org/licenses/old-licenses/lgpl-2.1.html\n",
            "Location: /usr/local/lib/python3.10/dist-packages\n",
            "Requires: \n",
            "Required-by: accelerate, albucore, albumentations, altair, arviz, astropy, autograd, bigframes, blis, bokeh, Bottleneck, bqplot, chex, clarabel, cmdstanpy, contourpy, cudf-cu12, cufflinks, cupy-cuda12x, cvxpy, datascience, db-dtypes, dopamine_rl, ecos, flax, folium, geemap, gensim, geopandas, gym, h5py, holoviews, hyperopt, ibis-framework, imageio, imbalanced-learn, imgaug, jax, jaxlib, keras, librosa, lightgbm, matplotlib, matplotlib-venn, mizani, ml-dtypes, mlxtend, moviepy, music21, nibabel, numba, numexpr, opencv-contrib-python, opencv-python, opencv-python-headless, optax, orbax-checkpoint, osqp, pandas, pandas-gbq, pandas-stubs, patsy, plotnine, prophet, pyarrow, pycocotools, pyerfa, pymc, pyogrio, pytensor, python-louvain, qdldl, rmm-cu12, scikit-image, scikit-learn, scipy, scs, seaborn, shapely, sklearn-pandas, soxr, spacy, stanio, statsmodels, tables, tensorboard, tensorflow, tensorflow-datasets, tensorflow-hub, tensorflow-probability, tensorstore, thinc, tifffile, torchvision, transformers, wordcloud, xarray, xarray-einstats, xgboost, yellowbrick, yfinance\n"
          ]
        }
      ],
      "source": [
        "!pip show numpy"
      ]
    },
    {
      "cell_type": "markdown",
      "metadata": {
        "id": "KSNOrnoMHEjD"
      },
      "source": [
        "### 파이썬 오류 확인"
      ]
    },
    {
      "cell_type": "code",
      "execution_count": null,
      "metadata": {
        "id": "B8pmiTi5G8JX",
        "colab": {
          "base_uri": "https://localhost:8080/"
        },
        "outputId": "4fd18b44-cbe5-459b-a002-64e6f36c2786"
      },
      "outputs": [
        {
          "output_type": "stream",
          "name": "stdout",
          "text": [
            "a < 9\n"
          ]
        }
      ],
      "source": [
        "# Syntax 오류 발생 예\n",
        "a = 1\n",
        "if a < 9:\n",
        "    print('a < 9')"
      ]
    },
    {
      "cell_type": "markdown",
      "source": [
        "### 파이썬 예외처리 방법"
      ],
      "metadata": {
        "id": "DJQhC7btE_L5"
      }
    },
    {
      "cell_type": "code",
      "execution_count": null,
      "metadata": {
        "id": "GJ1Y-0wMHXJd"
      },
      "outputs": [],
      "source": [
        "# 오류 예외처리\n",
        "while True:\n",
        "    try:\n",
        "        x = int(input('Please enter a number: '))\n",
        "        break\n",
        "\n",
        "    except ValueError:\n",
        "        print('Oops! That was no valid number. Try again...')\n",
        "\n",
        "print('-----')"
      ]
    },
    {
      "cell_type": "markdown",
      "source": [
        "except ValueError  오류예외처리..... 어떻게 할지"
      ],
      "metadata": {
        "id": "uYz5d8X42xBY"
      }
    },
    {
      "cell_type": "markdown",
      "metadata": {
        "id": "6Ef7gKpD8GGP"
      },
      "source": [
        "### [PC에서만 실행] 수업에 사용할 라이브러리 설치하기\n",
        "- PC 윈도우 명령프롬프트에서 실행한다. 코랩에서는 실행 안함\n",
        "- PC에서는 명령어 맨 앞 '!'를 제거하고 실행한다."
      ]
    },
    {
      "cell_type": "code",
      "source": [
        "!python -m pip install --upgrade pip"
      ],
      "metadata": {
        "id": "ViukrDAGDuPc"
      },
      "execution_count": null,
      "outputs": []
    },
    {
      "cell_type": "code",
      "execution_count": null,
      "metadata": {
        "id": "WnEwfA_x8GGQ"
      },
      "outputs": [],
      "source": [
        "!pip install numpy"
      ]
    },
    {
      "cell_type": "code",
      "execution_count": null,
      "metadata": {
        "id": "ZqJSQDet8GGQ"
      },
      "outputs": [],
      "source": [
        "!pip install pandas"
      ]
    },
    {
      "cell_type": "code",
      "execution_count": null,
      "metadata": {
        "id": "JtYjHD2D8GGQ"
      },
      "outputs": [],
      "source": [
        "!pip install matplotlib"
      ]
    },
    {
      "cell_type": "code",
      "execution_count": null,
      "metadata": {
        "id": "BRSzhspAC6J8"
      },
      "outputs": [],
      "source": [
        "!pip install seaborn"
      ]
    },
    {
      "cell_type": "code",
      "execution_count": null,
      "metadata": {
        "id": "8spH-HIwC6Sz",
        "colab": {
          "base_uri": "https://localhost:8080/"
        },
        "collapsed": true,
        "outputId": "1f1606dc-a409-43cc-931a-de3ca1caedb1"
      },
      "outputs": [
        {
          "output_type": "stream",
          "name": "stdout",
          "text": [
            "\u001b[31mERROR: Could not find a version that satisfies the requirement ploty (from versions: none)\u001b[0m\u001b[31m\n",
            "\u001b[0m\u001b[31mERROR: No matching distribution found for ploty\u001b[0m\u001b[31m\n",
            "\u001b[0m"
          ]
        }
      ],
      "source": [
        "!pip install ploty"
      ]
    },
    {
      "cell_type": "markdown",
      "metadata": {
        "id": "wl2PYxtB8GGR"
      },
      "source": [
        "----------"
      ]
    },
    {
      "cell_type": "markdown",
      "metadata": {
        "id": "T20_kqnwDKe2"
      },
      "source": [
        "## 2.파이썬 자료형과 연산자"
      ]
    },
    {
      "cell_type": "markdown",
      "source": [
        "### **[자료형]**"
      ],
      "metadata": {
        "id": "rxo68HToTgT0"
      }
    },
    {
      "cell_type": "markdown",
      "metadata": {
        "id": "GPQdotYg8GGR"
      },
      "source": [
        "### 파이썬 자료형 확인"
      ]
    },
    {
      "cell_type": "code",
      "execution_count": null,
      "metadata": {
        "id": "re9ioSIM8GGR",
        "colab": {
          "base_uri": "https://localhost:8080/"
        },
        "outputId": "d141e69e-220e-4007-dad2-e896c46284ca"
      },
      "outputs": [
        {
          "output_type": "stream",
          "name": "stdout",
          "text": [
            "123의 자료형: <class 'int'>\n",
            "123의 자료형: <class 'str'>\n",
            "[123]의 자료형: <class 'list'>\n",
            "(123,)의 자료형: <class 'tuple'>\n",
            "{'key': 123}의 자료형: <class 'dict'>\n",
            "{123}의 자료형: <class 'set'>\n",
            "True의 자료형: <class 'bool'>\n"
          ]
        }
      ],
      "source": [
        "d1 = 123\n",
        "d2 = '123'\n",
        "d3 = [123]\n",
        "d4 = (123,)\n",
        "d5 = {'key':123}\n",
        "d6 = {123}\n",
        "d7 = True\n",
        "\n",
        "print(f'{d1}의 자료형: {type(d1)}')\n",
        "print(f'{d2}의 자료형: {type(d2)}')\n",
        "print(f'{d3}의 자료형: {type(d3)}')\n",
        "print(f'{d4}의 자료형: {type(d4)}')\n",
        "print(f'{d5}의 자료형: {type(d5)}')\n",
        "print(f'{d6}의 자료형: {type(d6)}')\n",
        "print(f'{d7}의 자료형: {type(d7)}')"
      ]
    },
    {
      "cell_type": "markdown",
      "source": [
        "### [실습문제] 반복문을 이용하여 자료형 출력하기\n",
        "위 자료형을 아래 미션에 맞게 출력해 보세요."
      ],
      "metadata": {
        "id": "H7bSljnRIERc"
      }
    },
    {
      "cell_type": "code",
      "execution_count": null,
      "metadata": {
        "id": "gbzIvlUi8GGR",
        "scrolled": true,
        "colab": {
          "base_uri": "https://localhost:8080/"
        },
        "outputId": "a928b9c0-691a-471f-bd1f-fe62f56362af"
      },
      "outputs": [
        {
          "output_type": "stream",
          "name": "stdout",
          "text": [
            "<class 'list'>\n",
            "데이터:123의 자료형은: <class 'int'>\n",
            "데이터:123의 자료형은: <class 'str'>\n",
            "데이터:[123]의 자료형은: <class 'list'>\n",
            "데이터:(123,)의 자료형은: <class 'tuple'>\n",
            "데이터:{'key': 123}의 자료형은: <class 'dict'>\n",
            "데이터:{123}의 자료형은: <class 'set'>\n",
            "데이터:True의 자료형은: <class 'bool'>\n"
          ]
        }
      ],
      "source": [
        "# [미션] 리스트와 반복문을 이용하여 간단하게 나타내기\n",
        "datas = [123,'123',[123],(123,),{'key':123},{123},True]\n",
        "print(type(datas))\n",
        "\n",
        "for data in datas:\n",
        "  print(f'데이터:{data}의 자료형은: {type(data)}')\n"
      ]
    },
    {
      "cell_type": "markdown",
      "source": [
        "print(data, type(data))\n",
        "에서 , 의 의미는 띄어쓰기 의미"
      ],
      "metadata": {
        "id": "XkVLp8sk8weH"
      }
    },
    {
      "cell_type": "code",
      "source": [
        "if isinstance(123,str):\n",
        "  print('123은 정수')\n",
        "else:\n",
        "  print('123은 정수가 아니야')"
      ],
      "metadata": {
        "colab": {
          "base_uri": "https://localhost:8080/"
        },
        "id": "gVM9-e439-bT",
        "outputId": "66ac44e9-967e-4e9a-cf93-165cc1c727e3"
      },
      "execution_count": null,
      "outputs": [
        {
          "output_type": "stream",
          "name": "stdout",
          "text": [
            "123은 정수가 아니야\n"
          ]
        }
      ]
    },
    {
      "cell_type": "code",
      "source": [
        "# [미션] isinstance()함수를 이용하여 데이터 타입 확인\n",
        "def get_datatype(data):\n",
        "    instance= {int:'정수', float:'실수', str:'문자열', bool:'불린',\n",
        "           list:'리스트', tuple:'튜플', dict:'딕셔너리', set:'집합' }\n",
        "    for key, value in instance.items():\n",
        "        if isinstance(data, key):\n",
        "            print(f'{data}는 {value} 형입니다.')\n",
        "\n",
        "for data in datas:\n",
        "    get_datatype(data)"
      ],
      "metadata": {
        "id": "PMDfoepfF7K4",
        "colab": {
          "base_uri": "https://localhost:8080/"
        },
        "outputId": "2a0b4735-3ab1-44bf-f197-f23f6a798129"
      },
      "execution_count": null,
      "outputs": [
        {
          "output_type": "stream",
          "name": "stdout",
          "text": [
            "123는 정수 형입니다.\n",
            "123는 문자열 형입니다.\n",
            "[123]는 리스트 형입니다.\n",
            "(123,)는 튜플 형입니다.\n",
            "{'key': 123}는 딕셔너리 형입니다.\n",
            "{123}는 집합 형입니다.\n",
            "True는 정수 형입니다.\n",
            "True는 불린 형입니다.\n"
          ]
        }
      ]
    },
    {
      "cell_type": "markdown",
      "source": [
        "### [표준입출력]"
      ],
      "metadata": {
        "id": "Qv7p8JOYJdMf"
      }
    },
    {
      "cell_type": "markdown",
      "metadata": {
        "id": "EDFiaZyv8GGR"
      },
      "source": [
        "### 실습문제\n",
        "두 수를 입력 받아 덧셈, 뺄셈, 곱셈, 몫, 나머지를 출력하는 프로그램을 작성하세요\n"
      ]
    },
    {
      "cell_type": "code",
      "execution_count": null,
      "metadata": {
        "id": "a9sG7Q738GGS",
        "scrolled": true,
        "colab": {
          "base_uri": "https://localhost:8080/"
        },
        "outputId": "e2dbff4b-c83f-4e48-ab1b-2a0e8e204a75"
      },
      "outputs": [
        {
          "output_type": "stream",
          "name": "stdout",
          "text": [
            "첫번째 숫자: 50\n",
            "두번째 숫자: 3\n",
            "------------------------------\n",
            "덧셈:  50  +  3 = 53\n",
            "뺄셈:  50  -  3 = 47\n",
            "곱셈:  50  *  3 = 150\n",
            "몫   :  50  //  3 = 16\n",
            "나머지: 50  %  3 = 2\n"
          ]
        }
      ],
      "source": [
        "num1 = int(input('첫번째 숫자: '))\n",
        "num2 = int(input('두번째 숫자: '))\n",
        "print('-'*30)\n",
        "print('덧셈: ',num1,' + ',num2,'=',num1+num2)\n",
        "print('뺄셈: ',num1,' - ',num2,'=',num1-num2)\n",
        "print('곱셈: ',num1,' * ',num2,'=',num1*num2)\n",
        "print('몫   : ',num1,' // ',num2,'=',num1//num2)\n",
        "print('나머지:',num1,' % ',num2,'=',num1%num2)\n",
        "\n",
        "\n"
      ]
    },
    {
      "cell_type": "markdown",
      "metadata": {
        "id": "LqAbyRHs8GGS"
      },
      "source": [
        "### 실습문제: 시간 계산 프로그램\n",
        "속력과 거리를 입력 받아 시간을 계산하여 출력하는 프로그램을 만드세요!\n",
        "- 시간 = 거리 / 속력\n",
        "\n"
      ]
    },
    {
      "cell_type": "code",
      "execution_count": null,
      "metadata": {
        "id": "YwepfYt98GGS"
      },
      "outputs": [],
      "source": [
        "velocity = input('속력를 입력해 주세요(km/h) : ')\n",
        "distance = input('거리를 입력해 주세요(km) : ')\n",
        "\n"
      ]
    },
    {
      "cell_type": "markdown",
      "metadata": {
        "id": "sHIxGA0xLj0C"
      },
      "source": [
        "- eval()함수 사용하여 문자열을 계산할 수 있다\n",
        " 괄호안에 문자라도 계산가능"
      ]
    },
    {
      "cell_type": "code",
      "source": [
        "eval('30+50')"
      ],
      "metadata": {
        "colab": {
          "base_uri": "https://localhost:8080/"
        },
        "id": "UNBYyMjODd3t",
        "outputId": "eb2bbbb7-cdee-45bb-eb8f-4ac3d082fe4e"
      },
      "execution_count": null,
      "outputs": [
        {
          "output_type": "execute_result",
          "data": {
            "text/plain": [
              "80"
            ]
          },
          "metadata": {},
          "execution_count": 31
        }
      ]
    },
    {
      "cell_type": "code",
      "execution_count": null,
      "metadata": {
        "id": "gvVxuLjX8GGS"
      },
      "outputs": [],
      "source": [
        "# eval()함수 사용\n",
        "time = eval(f'{distance} / {velocity}')\n",
        "print(time)"
      ]
    },
    {
      "cell_type": "markdown",
      "metadata": {
        "id": "tECEWKan8GGS"
      },
      "source": [
        "### 실습문제 : 정수 합 구하기\n",
        "아래와 같이 정수 n을 입력 받아, a + aa + aaa의 결과 값을 구하는 프로그램을 작성하세요"
      ]
    },
    {
      "cell_type": "code",
      "execution_count": null,
      "metadata": {
        "id": "a04GPnn98GGS",
        "scrolled": true,
        "colab": {
          "base_uri": "https://localhost:8080/"
        },
        "outputId": "c18c66a7-12e7-4d27-aee8-3429927d87ea"
      },
      "outputs": [
        {
          "output_type": "stream",
          "name": "stdout",
          "text": [
            "정수를 입력하세요: 5\n",
            "615\n"
          ]
        }
      ],
      "source": [
        "a=int(input('정수를 입력하세요: '))\n",
        "print(a+(a+10*a)+(a+10*a+100*a))\n",
        "\n"
      ]
    },
    {
      "cell_type": "code",
      "source": [
        "n = input('정수를 입력하세요: ')\n",
        "print(f'{int(n)}+{int(n*2)}+{int(n*3)}={int(n)+int(n*2)+int(n*3)}')"
      ],
      "metadata": {
        "id": "-V10Lq05TrFZ"
      },
      "execution_count": null,
      "outputs": []
    },
    {
      "cell_type": "markdown",
      "source": [
        "문자는 곱하기 2하면 2자리가 됨."
      ],
      "metadata": {
        "id": "0UWbaR8_TxEI"
      }
    },
    {
      "cell_type": "markdown",
      "source": [
        "### [문자와 문자열]"
      ],
      "metadata": {
        "id": "SHkqIiXbJXrR"
      }
    },
    {
      "cell_type": "markdown",
      "source": [
        "### 실습문제 : 문자열 거꾸로 출력하기"
      ],
      "metadata": {
        "id": "kc4LrgAHJw4f"
      }
    },
    {
      "cell_type": "code",
      "source": [
        "s=input('문자열 입력: ')\n",
        "print(s[::-1])           # 인덱싱에 [시작:끝(끝은 포함안됨):증강분]\n"
      ],
      "metadata": {
        "id": "_QpSs-GCJvyH",
        "colab": {
          "base_uri": "https://localhost:8080/"
        },
        "outputId": "ee123bff-2e83-43f9-af92-37da240899a9"
      },
      "execution_count": null,
      "outputs": [
        {
          "output_type": "stream",
          "name": "stdout",
          "text": [
            "문자열 입력: 안녕하세요!\n",
            "!요세하녕안\n"
          ]
        }
      ]
    },
    {
      "cell_type": "markdown",
      "source": [
        "### 실습문제: 간단 챗봇 만들기\n"
      ],
      "metadata": {
        "id": "t1KHQyvnJrj3"
      }
    },
    {
      "cell_type": "code",
      "source": [
        "# 간단한 챗봇 만들기\n",
        "print('안녕하세요~')\n",
        "name=input('당신의 이름은 뭐예요?: ')\n",
        "print(f'만나서 반갑습니다.{name}님')\n",
        "print(f'{name}님의 이름의 길이는 다음과 같습니다. : {len(name)}')\n",
        "age=input(f'{name}님 나이는 어떻게 되나요?')\n",
        "print(f'내년에는 {int(age)+1}세가 되시는 군요!')\n"
      ],
      "metadata": {
        "id": "Fg-QYkDPJr14",
        "colab": {
          "base_uri": "https://localhost:8080/"
        },
        "outputId": "c328323f-79a0-417c-e055-ae7a4f402ffc"
      },
      "execution_count": null,
      "outputs": [
        {
          "output_type": "stream",
          "name": "stdout",
          "text": [
            "안녕하세요~\n",
            "당신의 이름은 뭐예요?: 박소영\n",
            "만나서 반갑습니다.박소영님\n",
            "박소영님의 이름의 길이는 다음과 같습니다. : 3\n",
            "박소영님 나이는 어떻게 되나요?44\n",
            "내년에는 45세가 되시는 군요!\n"
          ]
        }
      ]
    },
    {
      "cell_type": "markdown",
      "metadata": {
        "id": "Hb6l5EjLQB2m"
      },
      "source": [
        "### 실습문제 :  구글TTS(gTTS) 사용하여 음성 출력하기\n",
        "TTS : Text to Speech"
      ]
    },
    {
      "cell_type": "markdown",
      "source": [],
      "metadata": {
        "id": "MKZzJ2iCMu9b"
      }
    },
    {
      "cell_type": "code",
      "execution_count": null,
      "metadata": {
        "id": "-eY--f6MPwTf",
        "colab": {
          "base_uri": "https://localhost:8080/"
        },
        "collapsed": true,
        "outputId": "aad75dfc-deb0-40c5-ed05-9f94ccb1993a"
      },
      "outputs": [
        {
          "output_type": "stream",
          "name": "stdout",
          "text": [
            "Collecting gTTS\n",
            "  Downloading gTTS-2.5.3-py3-none-any.whl.metadata (4.1 kB)\n",
            "Requirement already satisfied: requests<3,>=2.27 in /usr/local/lib/python3.10/dist-packages (from gTTS) (2.32.3)\n",
            "Requirement already satisfied: click<8.2,>=7.1 in /usr/local/lib/python3.10/dist-packages (from gTTS) (8.1.7)\n",
            "Requirement already satisfied: charset-normalizer<4,>=2 in /usr/local/lib/python3.10/dist-packages (from requests<3,>=2.27->gTTS) (3.3.2)\n",
            "Requirement already satisfied: idna<4,>=2.5 in /usr/local/lib/python3.10/dist-packages (from requests<3,>=2.27->gTTS) (3.10)\n",
            "Requirement already satisfied: urllib3<3,>=1.21.1 in /usr/local/lib/python3.10/dist-packages (from requests<3,>=2.27->gTTS) (2.2.3)\n",
            "Requirement already satisfied: certifi>=2017.4.17 in /usr/local/lib/python3.10/dist-packages (from requests<3,>=2.27->gTTS) (2024.8.30)\n",
            "Downloading gTTS-2.5.3-py3-none-any.whl (29 kB)\n",
            "Installing collected packages: gTTS\n",
            "Successfully installed gTTS-2.5.3\n"
          ]
        }
      ],
      "source": [
        "# 구글 tts 프로그램\n",
        "!pip install gTTS"
      ]
    },
    {
      "cell_type": "code",
      "execution_count": null,
      "metadata": {
        "id": "O_xqpl0pPx6k",
        "colab": {
          "base_uri": "https://localhost:8080/",
          "height": 74
        },
        "outputId": "de0e9152-820c-4655-e3fe-fd0ee445e136"
      },
      "outputs": [
        {
          "output_type": "display_data",
          "data": {
            "text/plain": [
              "<IPython.lib.display.Audio object>"
            ],
            "text/html": [
              "\n",
              "                <audio  controls=\"controls\" autoplay=\"autoplay\">\n",
              "                    <source src=\"data:audio/x-wav;base64,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\" type=\"audio/x-wav\" />\n",
              "                    Your browser does not support the audio element.\n",
              "                </audio>\n",
              "              "
            ]
          },
          "metadata": {}
        }
      ],
      "source": [
        "# 영어 출력\n",
        "from gtts import gTTS\n",
        "from IPython.display import Audio   #오디오출력\n",
        "\n",
        "eng_wav = gTTS('Hello World!')\n",
        "eng_wav.save('eng.wav')\n",
        "\n",
        "display(Audio('eng.wav', autoplay=True))"
      ]
    },
    {
      "cell_type": "code",
      "execution_count": null,
      "metadata": {
        "id": "inyZATWlP3Cp",
        "colab": {
          "base_uri": "https://localhost:8080/",
          "height": 74
        },
        "outputId": "34a25121-231c-4f67-b106-e63db78f4a81"
      },
      "outputs": [
        {
          "output_type": "display_data",
          "data": {
            "text/plain": [
              "<IPython.lib.display.Audio object>"
            ],
            "text/html": [
              "\n",
              "                <audio  controls=\"controls\" autoplay=\"autoplay\">\n",
              "                    <source src=\"data:audio/x-wav;base64,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\" type=\"audio/x-wav\" />\n",
              "                    Your browser does not support the audio element.\n",
              "                </audio>\n",
              "              "
            ]
          },
          "metadata": {}
        }
      ],
      "source": [
        "# 한글 출력\n",
        "from gtts import gTTS\n",
        "from IPython.display import Audio\n",
        "\n",
        "kor_wav = gTTS('안녕하세요! ', lang = 'ko')\n",
        "kor_wav.save('kor.wav')\n",
        "\n",
        "display(Audio('kor.wav', autoplay=True))"
      ]
    },
    {
      "cell_type": "code",
      "source": [
        "from gtts import gTTS\n",
        "from IPython.display import Audio, display\n",
        "import os\n",
        "import time\n",
        "\n",
        "def text_to_speech_from_file(filename):\n",
        "    with open(filename, 'r', encoding='utf-8') as file:\n",
        "        for index, line in enumerate(file):    #enumerate 를 써서 한줄씩 읽어줌\n",
        "            line = line.strip()\n",
        "            if line:  # 빈 줄은 건너뜀\n",
        "                # 텍스트를 음성으로 변환\n",
        "                tts = gTTS(text=line, lang='ko')\n",
        "                audio_file = f\"temp_audio_{index}.mp3\"\n",
        "\n",
        "                # 음성 파일 저장\n",
        "                tts.save(audio_file)\n",
        "\n",
        "                # 음성 파일을 재생 (IPython.display.Audio 사용)\n",
        "                display(Audio(audio_file, autoplay=True))\n",
        "\n",
        "                # 음성이 끝날 때까지 잠시 대기\n",
        "                time.sleep(2)  # 음성 길이에 따라 조절 가능  2초기다리는것\n",
        "\n",
        "                # 파일 삭제\n",
        "                os.remove(audio_file)\n",
        "\n",
        "                if index > 10 :  #너무길어서 10문장만 할 수 있도록 만든것\n",
        "                    break\n",
        "\n",
        "# 텍스트 파일 경로를 지정하세요.\n",
        "text_to_speech_from_file('사건의지평선.txt')\n"
      ],
      "metadata": {
        "id": "VdNYWRldOWow",
        "colab": {
          "base_uri": "https://localhost:8080/",
          "height": 701
        },
        "collapsed": true,
        "outputId": "8815665a-055d-4126-a367-4b18419136f3"
      },
      "execution_count": null,
      "outputs": [
        {
          "output_type": "display_data",
          "data": {
            "text/plain": [
              "<IPython.lib.display.Audio object>"
            ],
            "text/html": [
              "\n",
              "                <audio  controls=\"controls\" autoplay=\"autoplay\">\n",
              "                    <source src=\"data:audio/mpeg;base64,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\" type=\"audio/mpeg\" />\n",
              "                    Your browser does not support the audio element.\n",
              "                </audio>\n",
              "              "
            ]
          },
          "metadata": {}
        },
        {
          "output_type": "display_data",
          "data": {
            "text/plain": [
              "<IPython.lib.display.Audio object>"
            ],
            "text/html": [
              "\n",
              "                <audio  controls=\"controls\" autoplay=\"autoplay\">\n",
              "                    <source src=\"data:audio/mpeg;base64,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\" type=\"audio/mpeg\" />\n",
              "                    Your browser does not support the audio element.\n",
              "                </audio>\n",
              "              "
            ]
          },
          "metadata": {}
        },
        {
          "output_type": "display_data",
          "data": {
            "text/plain": [
              "<IPython.lib.display.Audio object>"
            ],
            "text/html": [
              "\n",
              "                <audio  controls=\"controls\" autoplay=\"autoplay\">\n",
              "                    <source src=\"data:audio/mpeg;base64,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\" type=\"audio/mpeg\" />\n",
              "                    Your browser does not support the audio element.\n",
              "                </audio>\n",
              "              "
            ]
          },
          "metadata": {}
        },
        {
          "output_type": "display_data",
          "data": {
            "text/plain": [
              "<IPython.lib.display.Audio object>"
            ],
            "text/html": [
              "\n",
              "                <audio  controls=\"controls\" autoplay=\"autoplay\">\n",
              "                    <source src=\"data:audio/mpeg;base64,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\" type=\"audio/mpeg\" />\n",
              "                    Your browser does not support the audio element.\n",
              "                </audio>\n",
              "              "
            ]
          },
          "metadata": {}
        },
        {
          "output_type": "display_data",
          "data": {
            "text/plain": [
              "<IPython.lib.display.Audio object>"
            ],
            "text/html": [
              "\n",
              "                <audio  controls=\"controls\" autoplay=\"autoplay\">\n",
              "                    <source src=\"data:audio/mpeg;base64,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\" type=\"audio/mpeg\" />\n",
              "                    Your browser does not support the audio element.\n",
              "                </audio>\n",
              "              "
            ]
          },
          "metadata": {}
        },
        {
          "output_type": "display_data",
          "data": {
            "text/plain": [
              "<IPython.lib.display.Audio object>"
            ],
            "text/html": [
              "\n",
              "                <audio  controls=\"controls\" autoplay=\"autoplay\">\n",
              "                    <source src=\"data:audio/mpeg;base64,//OExAAAAAAAAAAAAAAAAAAAAAAAAAAAAAAAAAAAAAAAAAAAAAAAAAAAAAAAAAAAAAAAAAAAAAAAAAAAAAAAAAAAAAAAAAAAAAAAAAAAAAAAAAAAAAAAAAAAAAAAAAAAAAAAAAAAAAAAAAAAAAAAAAAAAAAAAAAAAAAAAAAAAAAAAAAAAAAAAAAAAAAAAAAAAAAAAAAAAAAAAAAAAAAAAAAAAAAAAAAAAAAAAAAAAAAAAAAAAAAAAAAAAAAAAAAA//OExAAluRokAMJGcUhFhTOsIOseTxixnSWNoxWKxWKw2GBQKBQKBQKBQSE6MVk6NGBgYGAAAAiIiI7u7u7uIEBAAAEIiC3d3DgYeAAAAAAYeHh4eAAAAAAfXxw8AAAAAAw8PDw8AAAAAAw8PD3gAAAAAGHh4eHgAAAAAGHh4eHgAAAAAGHh4eH+AAAArmHh48Ad////5n/+w8uHngDgAA8/N84wp0DSQyASBwcW+BQcsNPNeYKw1cqwriuK2NxY//OExBwnC3IkANpGvXR4CiwJIiYmRNskpVhAKZuTgpCpvSSUKrxj3IXOPvLS3a60fFO1ajWbjaS6zbluSqtSGhgq2z0GiiSEq44bMzQruQyWAyhnFZRYQpSu5MG2u0XxkuXSco85z88/tTvaUaC2bjKi3upZmhtIdoMsCUSz2pEJjrRBB2YR3FvFVN9t1THCmORn8wuDS/7Em/gVtGytYtS2IXKeXy2Zs0lJcp6G9hVJiPCFPbHxCPyMNKYyD4gp//OExDIm4+IsAVwwAQl7N2Vyk/Iu7p5CvNVDF3Nrzvqd1bdj9dnvPf1NNWff4gqpe9bcbWvvdxn/Qyb/+WxlOVjN2iGttuKZsf/fPjPr34bMfeZES3e2b1meJ77bvr7GbH+tPx9iIzNLvvjPuMyD8IXMm7zW3dUL6dUMo+XX9Hjarv3lZoDbkUYaZBS55Bzh08WyWWZ/MDMiBcOlIdw55MDLfmqjQmyJm46yBkCL5ODHrs2sY8XGLLIiRhqOMkRz//OExEk37Dp0AY+YAMdwWgAZcgFiCAG/41BcBQMCcqcuCuixjBI4PTIOQBMUJq/5ZK4+BwLFlm5cJ8i5PlwxFaE6LjF0Vxgk0HyC/KxY6dtv5UL5NnDo55kYl8wMy4TiZcIoRYcRGFEcoahLDgJRAZstGZdHPHn///1mbummbpsXy/L8xN0i6Vzc6bmBoTpeJwgZYIIXSwUBzCfMDM8ozIgggbIsLTUOrlD67pa5njuO5mZm803K9k0n5+9upTtn//OExBwqc8qUAchgAfJv+U29qS9hhc8AiTjFcP5gcYnPThMqPSYPZEKIDLAXWqTNmtLVipWchamjNN2zbVS+d8saOF/rIW247pzwwOD+AS21z7R4ZOOMO0tzGXvzDEut7ejET69Dm0Tsd63i/6UzHM/5o7bs78vPbP/f6OXynZ+zs7efmjn05u09vfN/mXNZ2H5wICb+j8x9eWo2ncvSzuLRQRs9m9bWYzufNq0xe2c/43vMPcH1vvNb1rWu/aJe//OExCUuPCKQADPS3fLerHHsX9+T5ArCLTiliPn6uZXcKqiyVQBCi4KRJUoVJFYFDddTWoE0cJhU0dTTTgMFBShkSowuQER9s5dnU8EQWQ42DIgJ7XNEriKWpU0ukiW2pYnsYSVjCvJCpG3XasYy2K0OzKL7aXPeHWf5b5pMs+83/Nzz+x9fUP2oJTuSa0sj79e5XOMb6mbu1C2VYJyhAde8sdjBfBfa0jEBNRiCfcYl+VqWduVV9Pdr1LZ1/233//OExB8uswKMAMMeuZ9mfmuaxrJwyhSdPrL6wrWemXRyfnpeOw9T6FpBwWDyRSJTjM1Pn6CTguQkwYxDjIJcts7JdthTRs0xLXG3V4s0J+2w3GBFXD3b6aNFptUwXzuVlmjNbLmsR9Mt3fsM7bbx4+L2j6rreM+PrW60+Ytr1xvF9Zm364hyf219zCjot9DjqA2gYXslGvhY0MJZuRMH0kYZnuRolf50CZSyIwK6MIBmtBaODHxl5lZKkQp0CgiW//OExBctavqIANveuEMRTB9Mdqe+VHWkOLPW89ZXcWV1I2OEM2DUgoccy5Jw2uTJeFNM17+cSRILIz1T5XHCMxmgGWr0NLexOCjTBoKOh6sqevSFj1/9dW9sy0g596SvcQYMTeP8xd0g61LK9hOV4MmJY+o8bT+SK32fQIcjx7urdnckfMSfG87j5u5V3EpGliyf/+usb14VhVj//vF7TEWS4pUyyLWic4TbWqdnBnpcJXAqFm7/ZkgKWBg3CMBR//OExBQsGsaIAN4euJlUCAwrQJ2Pbi7c5cdytK5Varwf2VzucF56lvLj325JfnF4PK3ordfrusjlcxQ4ySEaxppQzibYG0KBHWexuChqfQ9YLBYO8iVcjxPFIc4WTSShaV0SFO1brfG8f7/+//bef9/GP8Zr9Wt84tvdGvU+GDyUxmlqW3jWKxYNc117bt5LYtWuu9y/mQ7CtljzTCVyBe3//sf+uN1t/TWGlVTBZEHHKdYt8EyeFAI3WPQnSYzU//OExBYnqrKQANvauHR4CRsDgSBFE4vRD4OThn0iImi4TLsf6eDMNUesAgEMJwSfQYYtCpArDMP5lL2/LccBbEymRlItDiYnA1qhLH6S1Nq4hQyBYCTjeE2DlnQb4TwoA6kyWJJIlj60W9f////q9lrqOWRQZaa1FxdFTpomBxzNBlu6DIpqZNfl5jIfRS/t/////+5KoG7mAOplYCjIZO+AYUYmZ85x5ZxtU8EAbAAKCxokAW2mEncIun4sSQCM//OExComglqUAN4auKpNYdc8sEbwkaRha9JF9FMYccZaT/UrKbt99a/XalXWI2HwW5OQA78XjtLuazp5rmI4VJj2QJEWxWFeNpqJ9TJZBAun1m6ZcX///+p1v/qWtlGTu6KCCSkGQemgbAmECh0s5F51ajxUWiv/////V+nkXAhSCvd5QCWh1InUSMiQpKAGizhoQEtYENA8CJymGDpMjsDErGmjNZWuQtnCEXIMuYFDlxnmRSpWGp8S99X8pI1V//OExEMmUmaQAN5auM6WL6rQ/jEZRNPtyJO84keSqdGG7z9y2OS3cpKZkWlAkhPzEgi2FETEYg9DxSLiJIMSRNJ50mIOter//7d2Qb629HdmMkkkmWcZzE+oIBUfo/VQp6f6KqWeQdA5UmSYe+hDisQwVUBQ8WBU0dpNOCSELM9KisUR4MQNksQaNMmKUyAgQrfF7wUeP43gtcpcJ7oIQVhLWHvzmn9sSyBrUTvYVaavTxW7JLVPLrN94FBnClLl//OExFwmGmaMAN6UuEfgyXTVk4eC8aisIkaCECuCCIULbiAJRMGg+IDR8TFjjDTv//9G+yo//+xxw/NjyXHBsTKRDIVJH2f2OXVyUJxnFUcOAPma43oIwIJGBK63jB0E4YHLQmFoJtRaCg0HAxlAKOgjBSUDRAmNVXGmKgJomIsQdF+YdpmuzjYHeuSuM5yq/bwt5Rqmm+bp4zVtYYXZ2cypNUEdljY5LKhXJ2Gw9ImUYEwXwmhfAdAvHBChaFoh//OExHYlooKEAN6UuB0fEBqmbP//1N/a3/oinpLzxWJnIS5Ee09HTKPv/PFpJXnAQENQ3gwUCDC4vOQjIxGBAIkjFYoCAQZuKJj4LiMJmGBSYYApgUJmKhCJAwx8j5eHQzj0OM5CQWiKB4aflaj1tJl1C+r/SGFRWITcRjErgnCngb6CXUkQn5uMzEklNPA0UynplurWJS3gREkW0wzMUDYBYPRBARCGQImyKnCRi2jub0bieEmK/////54+Eess//OExJInukp0AOZQuGQzWTnRK48RQl/3f9JmQwCZhNUKUoygJn2GRc8xpH8aDUEioYQgm1swGCUiA8uaAgsbQQg0nHPHEzbuwkg04uzAsFESJ5enZxQqTrzf+ozelXjy++0udGH5U41d9mSSVs03PMkkrKIdblONgWCXovtKGEgO4LoikLRW3YOaQIhkiZ3IUcYcz9MmK8PIexzHX//3f83LituhIiDUEad1lB7LQ/AYsseP/////+NqZSQhEZlS//OExKYn0lZkAO4QuAGIYGGCqZmRgbBALmPxOjQTmAYCjSXDIAGEAQEwDJoGBAEq8TqX88AIDCEji9Jfctc0QdEma4KXV1LdiTwL9rLzZdDEJtwQxGA4Fi0ka68bhQy9apmZvM1lo6ul2IoKSUHZ66s5DNCSyyV1dxfRUz8JDHhMW0qa11Sb3W3Dbss2///5////3Ztv9zg4hAUa+YF+f+npcUkQBgAAs23sTAQHMr3k0cAgcHzSKSR3MIjUzGDl//OExLknOjpkAO4MuUocQ2KIfIDk/yUCt+hgtdeZc9NVVNWEhEFQkwZfIWiNmeZt22cikk7/wM8eUJfiLOnKJY0x+X8d+RqwOqtCB1a0Jau1H3/wf2V53xV2IooyEQ0+6GFBUOI0rMpkdXoisypJfX//QuYQBEIHhguXOLbNhliLXfR/0gSHRgOOJjRJxiaIJhPepgGIYYEJpwJoOFkyUK4xLAIwBEmWtxBwBJVBwGA4CmWg8SAoSC9wYMDZckGi//OExM8k+jpoAOYKuBBEJWB+mgS4mwJcEQg56fSn1yKVJjsUToWDT9bG5K7GBppo2IdEG37Cw0GgagEJL1FNi/BcxDNjDW5dEqtzil/qsy/UfSq+dP3h0QgPqkNXj8CzW+9ZEvlJc/g9qde/cm19zeyZnqTdkyLRWIcRAoZDL8aeR2SU/+cpBLMfOjV2SPFFdymsOpp13PkQWBwiz+ra9FVPoweLA40RUwqEw2QV4xPBAxXKsyWAUwDFcOI1eBgo//OExO4zioJcAO4YuAhBLSYoFASQuSkD1LqU3dAhOsVNRB5chflHVAM2da7DWqyF01cuK7jBmvOjE4dbu6LmtQd5rEuY0wlVFV6UJfFD4dMieuVWFtodlFLcwklOkWL1HM24fHwnBCPRLW3n1W4wqs6lu3KhkM9e/Xr/+4pq2iRMljbTiUyyiRSNSv5LU2pYyWAgDNJleos8Wl//9c83/+owMCEwfYQ4JL0w/GQ4vVswkDIzoPNRgKluCiFeUxSA//OExNIswnZgAO4SuHHACJgEgomCYs+YQgmtYRIEIDIQFCQwLtOgmE0xQVajar6WoyBvW5Ow7MQa63jqvxFYw+D6vpKWcSVZkdWq2BVynSW4kBO1kjcXzrbtY4TwjSg0kj1uB9qNK1ceSqhsSjKBeRdi7QTcnG7itW/5dx2VS37/8hbSh9WCz08akiuVRQIXEqqt1GV7b5bJQWFhZdPtbrXf/6f1qi7ph0zH7ygZRiJ4FDGJQUbnFRi0SmCCUJAg//OExNItypJYAO4SuFUCASCZbGphEQmFwOY1KoGN4YH0WWCpfIviQy85EN13PUDgdFd1wy6RZxSX7U0cGJ2o7Ttfh99qRlchfePy6B2QQwsIz1r7MazWWWLRZpLFN6CT4xsNtkx5hGjXE+FBIQD59UeFIiEoOBEuJ0QrRhcnOj9IHbBKdL4xV1devXq/sP/X8pS9507nPMuuQQQQ7GTpubva+jH5mOPACzr4O5fAAfHvh/8ESD3jDv////IEAN+G//OExM0zgoJgAOYSuaSdQ5nlxOAJGDzmGAMxeVgEMTPAyAIYMykgwMJDKKMMNAsx8uDGxpMkOYzsBwxAZ48ZNQcgAYNIDpqkzBlVATWGCIECApjypseJmRJv/ppxAhJhgBUo0PHQ48PVRZk4AKGOOHD08EyFIgQQttbqG6fxMRS0Lqv8FRKR5hQ7BQEURiVYhWrOl2XPacsGytgaSasq1nVUwfQMASFbybDCE8AoJTECEEAV5jgmuF3FMFmTzTYP//OExLJG42ZkAOawvIU/HK/Ibl9unxl9ebd+3fvXLee+8w/n///////zv9q4XZZRReQ+0B2nxjz8x2nn6S3dywqcv81fpbVyYeCTVNTu6CkzmJiHJ3O5u3v+Z3e44ZYfljrHme/yq27uW7ncLxWGU/5YXOhocYqDAqagNaGE84RgBw6ZcAtMMPG08TAjUOFxGPg40MRZgcYGCtRk5eYQueKAWsMUfMaGBVNkhgTBQQGj5jBAVPCyUyBwz69RYz40//OExEk4WtJ8AN6euLSjgNCJb7FGNMRYqsdmbMZS5a5WyRh3FYmvxOKsGdd8GlQmVJ3siTkSChlOIKtcPxaS/kyXiGxzPbSvUAf7c3lIH4Xknwl2YF7yMxSx0IE2JLLVE3HzO9mhPptSxd11vdfr7/////////xmBSRhWi5uozi/brRcZzuu9/WNxp/t/dweY8e6BODRANq+aEIZNAi5riagx/+1FYaFC5imRfkKdwMvMGGaqnqOjQMPEIwtqYgm//OExBor4maMANZauCNIF1gGQnbSH5AaoZpsjiQwMKFl6RgJeIIMATqMpvgNyAjQcstlODNgEZaTSO07dPBEnhqOxGORClnpVEo9Gbtqri41ZvrySjft3GCTC8lISUYMvDILwwQ6DJEzJQRsSUTAbw5YYhBBMRLBkDcPMgrJMuDscwTpInXvZ7e37d//9aknTUaLN3DDTmojmyrhyS5B3/o+taZkJLlDi5AJMMuR8QyLZtWWgDiZgQAcTFihhipk//OExB0oQmaUANZWuJEIyBjQmKwBDC+0WJkgsLStNVtRzCxL+mYQY4yZCqLawBSxSPxm3MU0osVJifu272NFzCduymmrSqxOw1BT9MdBJNANjuNB3lRPSKR8NTQdg7SFHsPQgw+AijsHUaqBAeFhOqVmzDM6YmkMfst0/////3/////1Ck0fNICwkFLdVi12E6V2gBvEzS826FGGJP8CiK/mZBioOAhQeLTAciM2wC1xE6EIhEIsUmMHLFDgCFAR//OExC8ownqMANZauWNMBjqCBPUqgtqXGXlZb6CvhMdykc1al9zlzeV3DK7hjTV78Zwp35wdB7ol4K8SZICVHR/GSkTiFMh5oONBmSogo9hwheROhjBayQHsI0PU2LxdMTxToqXV/q129v/9GkfTLpgsxNnY868z4Gqj87BGlXvovSMCDp4SgNAjxGBjgcQPqIwADH7D0MTDhkWBy6xiJ0YqGooGuwX+NLZWWVFhqbFmgqQII3JBlW6SQ01+doI1//OExD8qOs6IAN4auCH86SrjWt1alu1fpa+O+Y8prmt3r9ulr0IxiEPMOpuOpNHiVqHsfNzI2MESVlwYxTRHEOpUJaF9TJhkko2P0W/6kNvsn//rqRQTNkzcf00jp40UXjBExZzU8yRkgtF01stI2ndP/eUlNVDBp5cw59lGlR/0OBgwnGpkQAY8XySHhkQd1DIw86OkEeJr6fKQcbCwEMAKTcmGxYCwdlKYsFS1wZHAlymm8qamosaW5b3Zrcq9//OExEkoEpqAAN6SuLGWW9Zd5zG5T7SFSiQIkQcJUiNWMkSVoHzQnKCxOcKEyRtXI//P///6+/xWSnK99X///////v1W2RkkOtGH5JDbKHIponyRAyRJtPCIGmrd93AAiQxpWmpnq2gqAzmF3MPhlMAGhoyWLEB8NrsMKgJgtOzGo8hdMOWUagdZCYVeMA0gBJPK4RkzA67TRQwGdxglgtn/7vUu3+qbX953VrL92e/Wx/+Z7rRrKq+z+0fcf/gg//OExFsmU0JkAOZUvEcISQL45x85QWgkiFHpYRT5rU/0S2QlBsYTZvX/ocaeSqaaRCKGxUesdNNZEc0iOIxZLKYPl////0841FJTamnmBguYtVh5n3G/RkYsAph0MGBBCHBmiVREgCgKV9DqPSFQoA0hzgdyYS4Swq2I8uqq+qhhnApdEmVNOr1aC1c7f1lu1zuNXHmW9bx5l3fPyyv/rL7Viepnai28Md8Gh0rRI0PFYsSdjG/Q3lZH+pDG6s62//OExHQm60JAAOYKvNLvQPPM7IAzsrL1RENqXu5bff//1qQyuilHbISGUCibb73a3HvftLUxQXMNEgojnOTZRsjwU0hH6U2n95N0EPUkEQ3DbFApwpSaAsh1P0ScN4LK9hXg4apKxawfiNnTzWYUfU97WraXVq2zNI7KsASAlgp1uxhmjNggIUtkwT58NNfL/VxPm235Z6l8Y1ymeRPs1cKWVQ6wUF4FY3Nmf7/0+LOFJbhWHlQIpUdYlzdeze7C//OExIslwpIgANvGua8JKxZ/hX726/phvTNAROACApgRJE9eBiLHYEvRu3jLotNRCDa9WafYTQpcQmWI3nU6E0+fY5CtfSXdZo2yv6GF967bx0v98/Q8igZhrfb+mpVxG/7C+dgT0gtet7T/25giuHthC+k6EikgouxlZGdD2sg4admuYVSOlcMrmWwvQoDOBge5P1ZlfpJTI8m1i9QmN5B7efw8SUz2PJr61rAx5Lxv5ClWZGC26toNFNZ1KGIq//OExKcn7BoMANMG3QsIf+HZjCeh6gtUuf2JBI6WWDY4oRkSUkkUERHHujJAbTinOZa2ahBqD7WvPU5pkqaDGnNL6qlNtnIdhqMnKZdbkpWxAKoGb9GcwyowJpbnexTS5xR5UhK9PmRNUZWMlhhc0Cg3kFLhhT5mbIqLDdzUdqhkpo/J09fJ9ieEz0RWMva2laWWQ834Zj+kPnQtDUNqkxcEK4ENXce5a/WGP6prV2W37Ev3aVRrFiTZr8Ln7H3M//OExLonBAIIAMpG3azBYUxuaNh6xCiTjOc0TVxEy7slqE5SbLknq76SZWa3CKKBvMuaTWIMTpoe4wsMrmYLcPCYyQyJ5gkcWHQEakfEedOh+FaGcdsQJXZydlo6fQowgqooRmfaolwcQ4z+U8G6iIlI2yOoKNYJcNgsiD8iuTAujQQm4MjafWmxEm7HbBopAY73zXL+d/Oz+dnVNhjP1twjBfTM0xkuzjEB98WmbwkkySrFUT1jzdM41r5ylNmo//OExNEn9Dn8ANJG3J1RpxUfdk0Bkq2a3WGI7IjpTMqF8pXUY/wlcPtZVbQS/yrjEbaWEN+tCY2te3J/sp3Z9kzcld071mR3ibJmIbrNu0+nZ8irdG/njdZC0TUovy+xFU3U914ue/fuzaae9vu6zRva/kTz7qE/7q9KwgZaZBBVR80PvOF06WigeNFl3NRi0YrFhwt1UVmLy84kPTI3Yuduy+xZaVE7wlnlOWMmVDy7cFzkrxF1tX77sFKM0s1x//OExOQn9C38ANJM3UjyyNEuxp+zKJhyJjrMRNBR3HjiOPuGiFhPg1BqVO3AgnUyDIZjey9oIplEHnerGBL13hrM2pljf8hISQwtiiRkZWFm1ilsMLljok43XpM/6TQIfXx1qwnFo84W5DDj7Q6ckogskhqcx80rGyh0Hwe7JWhVKXGefeY7xtaxsVbtHS51K+7N3UDpE/gjOCVlA8W40kspQUTJxI0ISiFbMaTPFoo0ZXXao0TQDADNvJ0Je6aH//OExPctzDX0AKMM3KLh02uZbYbREs0GrsIUxB5mIzxJ6gNLupOEGOtMGJUmkTnUsCHwomXbk9J0Vz3lZRqSbAssi5ADYLOUvcOOvQ1o4jel0cfTmUUetI+MJMaN7U1306hkCM7stdBMbMcqbLdBGos9PLT2i1RdnrvGOSok91Cus6kqvFUpOYcqXcd6z7uYs0lnU3XtXNcQ4mjVtFCZWJGLlTUBUdiXWIy9JzssPoFFkJIcYH7abchIVjeoEJmZ//OExPIt9Bn0ANJM3fbVeo022fUWxJlmZHGaSqikmCFDyIfUCQ4wHEkj0Jo5SnOicQzLqbWdLNhOv8ZTAfFo4+1j48NIUeTKSQZhMd4QW5BEp+qm3WdIozTytC8xoH2eQw13VyWGu+qOm7NsvI+UUhp31qfe6TSf4Tjsz47U6rLQb8/GnEC1FxLoPxUpb/8r1eXqtyhz5W59ap9nWXWiJiLZIQL2RrpKJ2wJitBcMLrahJiBGocOOTi44Ys+Qom5//OExO0s5Dn4ANJM3KZ50EiPbiiQzqCrDR/ECxp82FFtHxDRu5Zs4ESPXrzu5aq2rbKuQgjhkdx8/5N/YYqjrfCXUjDZXGTEppY+oujG4OW1rZXXrajaAlU9OevKexnOo0ijVYtbLLHRqRu3Mt3OKzOSjCGzY1pet6sZbB2py2M8fm1d4tWx18KcIicjBo4exm8QxzSsph8Cc5MEQiiMEQMVBc6ALJgiAbrhUFhABsi6Xx9lqOAEAXg0HyqTkIWQ//OExOwtfDn4AVpIAC0hzhaznBNAzSI67MtQoUPoQApBJzYOAZAQwhhtQ0TCTkOcYwaAh5gliDUAPcU5icKFyST9SqVcw3hgCevwyxXDpG0EMCNCkJ4hhYkKb3sfEV1TEZnJQuBhoeFeeitOEt7tdmOPdPKlnJfRn09Z4sFhs+ado95RTxzYHAixsmsJgZjIqkKJEfsMkx2tVkuK9AYbwIjXEzZtguNmCSQoSxhKxJDvGaWMlBdi+ljJGumUhDku//OExOlPBDn4AZ14AFQytxfkcdbiikQZJ/mSYDo02ZhurH1HDMbTud/Jht9H0zg4lwVylLGfKKVBeDfu5qxEKhtc1WmCwSONEXFR7KTEx4T5piK081UyKBC1Grz/YFA7EWjMH3AxUERYPgURqAshTRUKQ4y5OZel5kUKZTKnJdqtBjyLziTszZyHq0gDMfRzPXHQPEmt0EnB6Wjc99o7EuSmdSW/Lt052v0pF1LpWYbZPUjETjJbPF9YURi59Hil//OExGA4FCoMAdxgARo3THVCCoV43Lp/RkyVRLlTZNo2vTHbB5vG3rz46UXdxU62lPYlyyKBI9aOu1WF9qks4ofa/YdhOmnFqaCNqBi/mG1W5bOs4pmab7TOqqXeX5bHIL8zVplljHm1TU2ijtBeDGEPbwW9x6t7a45kEqWFu0d/FLK+sTDdPmJ7WZEiKjhhqP2WEAAMw2AzBQDQWUyh2nvlyGaQ4678Nwd9j0SdKGo1G30gRrE+cHB0joLUiQsF//OExDI0fAoQAVxgAWHpOP663OYwyjU0aTnMUK+p5EVjhcYFFpe2VVrsTyuOtWqOKXL1oywyhJk16wY+hUvSKOiZjObuwsg69Wz2tIXcSr7vp24XenUtVd0f1WMKIeow1jq+GvS2rs57deit9KU6s9+1+0GzXptTmP/GFtq9loVizZbvBlaO0Q6fFWlmX9+NZBAfvO0gzKY/8dOy1YW46KpyLIVDleaYEASvkCENbd4qJSEJZJCa/aSHDjRIlbdy//OExBMsLDZMAZmgAIZeYI7zIIpmhdJ8OkFzgGAu5fVLgGLAAapgBJYBmgDexum6ACRoWthugMMAHTulsm71iSE+QQdw7CbVUizaba5BBlCIFd1G3/7u/Y3TKZPlwuF8LqKq9N9663RqQQ3LpgNsqEXNS+XzEv1L/3/a2y7f6ZuXDUvlgghPnXFaDsJ9AWZ9WvVW9//v/X/JAnDBBCgfPGZ1JZ03NDI1PqLiKh6rU44rRpHQ3mKnrB0NKca1SwJ5//OExBUq2zp4Ac94AGox/INrRR+klYYqfFhEUMAVgbAPAGOUq6QxdhqgTJcC3Isu5D20YCNNNpgKysShpz0pDdQW7TbCl1H9Nv5NywK3xSPuJr2+N7rbN/rH+YsTfhXzW8LWL6viPXGZK0zS/8POKxosLGZL4x74+Pnf//xr/X//p/jH3749d4+LWrq1vCz9bzu3x6TzZSVYtDvTJ2dDexuYwrVogoAHihu7ZyVZo3J18J0U5iypwpBwDQOKJCQK//OExBwtutp8ANYWuJpsnm3LeSVrve+SsrgexKHDht92VwC2jaSBUhcNXUrC5VfqcOGiUvRrzzpvrDtXk7Q3milWUwXN2tT9ykhunjr705IJrgSAJzMQwJxm5MvQM7s+mdRbV/Tr/j51ateqOxcXM9RHy3ZGgad1K3b2/xfaZ6U39b57uZfbX7LOMNz7JtkUxOwdOKGNYWJVu1b8jgVJ2RptvPsOIXVWiDrACIE4YUCxBTnYigjDzBIU9wNDBEGD//OExBgt0t6IAN4auEjTdd1Eqqoff3RL2la85y7K2XStYOSTcXZLGEyIgxsLlHoqKgFY9B22ho5O2hzbkpmXvT4XOpupNwIdnn3a3LYbkUuzdOBX/GWFxMxmDnDvCvESFzJ4iRMy8PJArppopqev//rqqq19VJlp1lM8mb01sigiXzhq5lTJh0l0Fmxso6lX3U0wWxqbmJePE0oOYEY+VmxohNH///8hHWOr5aqrJDAqIi701wUqiW/gZMFAr1Yk//OExBMnGtaQAN4UuAoHGgCoOBEufxZlJVUysXnQsUjTeROJavNWfRcjivWIRw5FBx6kXBTvaDLHIYtFWUwNiMHXq8xfaLYvpR0sV3XlXatg00L0seF0Ti8akIqgpH5QTrEyrpt/9/2/T+rKVZFNUw52OHxCxCYdMMdmVDlZH2otLmEpp5ZiZTiZxqf///+m0i8eVe7yFXBFQEYCyBiUEEIEMYzgysEDC4sNLmgwcAwADzHATFgrAsHmUdwOpCQZ//OExCknCUqAAOPelKFyhKfFJaDefqICRZkmLj34cItohRCmFsNJhTsB6XZHORRDGdjKFEfoS8YqKIyxoc42fVmlZYl4tN3rWt06y1evjT3AqZeqpdDxCTilpPFCwOtrFAMWBUFSw5gTGFQSnQwVEx5JUFQaPf//+39yn+68NISqeFnhhPKhlUBhggC5g+Ihq4Hg4BZgoS5jiH4oBRKB2KKCE0BBG8ywgYhloiGrilusspHKTrY/DBaNXayGxwM1//OExD8mMqp0AO4KuMUAhETcCQRGYpYjhLoawo4eiUieZw2AuQzeVr+nL/f5VyqCMpWPnMcTA40ljEaR2ujzSrlkueyulXe33orWiIkktiuRiJdLujZmLRM5sfR///+uhLP9N7d2NqZ0QbaGKkNKXEACSoIkiYgzJ2vGAEAy4Aes0LDWEgUVBn4+4bTJuAkAEJYCjm68AtCi7Y0xlPNISwges6sj05Ljxl9mcNCSQxkXoF1OdCGJMqB6F2qidxla//OExFkjAXaQAN5elGm5tbO/V8sZQJNHoY2qOE1IY9hIY42YJqQ5xr/sX+2xQBEB4WFQtWXaD9xpPrKSBTUcFpU/JgKAcuGq+lJnZFYa8YiOurEguTFDQ8JKfAZlSARBTEh+0JFuXBGmVzbEU4644uJOmQBA6IUh8NfjcqUqhzFjVnKNL8pHCgvUSeTuCicDyhAjA9eSPPalMPGY+iYIGQWodDIG8NpMFkHPWsFgSBgMCbFQno8ESqyn/+rV/3/6//OExIAmMmKYAN4aufXpPVTU1Z5EvGqMKkC0vT7/u/ZtrA6Gq/Ku6AFITmx5NeWGjEsllphQ2NA8EjokPSDyiKYdse3jdjOD2PSoEkGaaFApMHhMpJl7ruiERHcb0VWoaUytqz8oKUIsQYpC9SK3yvSf0s23a9g2Nk1d4wyEIsr4pMWQ58iVLjVYLVpHXsZM+ltl0oTuJNDtZR23hTYf31I+0LDnrIhQYLOALWDxK08hewtbkhRJaaU//6lVhlpQ//OExJolmX6UAN6wlFDs4Y+T5eo0U2jDGTDlRIpjhhYSEWskJS44cKb6MGORDVOSoqtrLAkTW0/RCBEXgNMF7IsRADYMgayHhw21RUs1K005+fcVf95bTeVI4gPebpWVB04nk2lRYKHK0dC+HjgXpFAG8VHxBRksSQrGhcCdObCWm6Ji6Kl//vpa9TWS/Q1oquySbnloqeg6Xqo///+p+1FJajNQjcZ//W+ljEbMCLj5HtpCqhvSygYt42cCFkEa//OExLYoMvqQAN5auBc1CZNCAVpGacaKjPbZjLoiQOjrIKRsKlWTDTOLpLRlDw80gVoO4FvmRmSsutwjJIg2le1k1hnwcKMvUnFDrPU3FxsgM6HPlLxl8a7xMflunphNOwGT4RqrLIZYLSX+WeRmQ5Za72qGAysCVtMPMLbUhLyzxRUsPI/Kpazd/4TrO9WjsQhn/+hVYsqYKlHBkaPQIADO08yktX+DBwyQmMMCC7xf+Vmccpf0MUZpsRBD6eP0//OExMgnQXKEAN5wlD4JgHJANAnZK2cGk1JguIEmIGvi7ibofKz0Nl5mThYYHaABMrljx7iPD8tLTtc6cIB/3WjoohP1RdYML3mlH9yEKCAHzgNh4QDUAQWc+GUmTRht1eycvKE7CfxQbBD/+uvTu93+i+fk1Y0KgAOBpoV4GNAGkeMtUz+PFaTBY0ODrEFARPRVceE7yNxBwYfl9UdSsAvpInJb6DEOKl0EQMrO20sQ+QksiQ2EZaAoYGMVoj5N//OExN4k0XaAANvYlJNGiwEIsOtalSAZHCkx4oy5wS9DI1djgLNmCOg15/Krw34xJKsvyeOSQ5Bklo5xojtOBcZo7dHDdS9vWf7/55kdS9FOU1VnZ2ehFldUABYTDo8g8pyny1SkiKYk52smt66oqMQhRgq5RRDhMVF7iCz///+/S2/53b3pX/9nQZFnxZgw0AUHM2t0u3tMAdU6GwCIVNyRzSQFThkY0N3W7Fwkg+QC5UtyUWg7B9WURX27OXp9//OExP0ytB6AAOZK3ZU8HRl4izbhF7grKTTvu05PCLJEP0JtTnSeSOOUL0DmcxKiFoGIrSbxpHJGSKpAR5GI4JHaNyuWYWhxbSUOorF2kFe4gsgWcp3vGigTeMJEIgxQ5S1wus2tr3qEaRpQ6B3K//oqFr3//tfcpaB2xUJGDrMXMe4wgVzdQcRwBoaMbcwzWEkBrIzGgYhErZ6LEvKDQoD2h4KLIL39y9UFuSAo6E1xwdLm/LwpcoRLgRObWRQi//OExOUnYWqQAN5elKPDtQsRm3UAMM0g0LEm2W1q8BFoNvu6hRLKFRVJOtEU3W/kiRxdSBYugjht81VgUv2VKPgoTFaReOYrMCYZO9r4fp/m/GnwU1Ygj4Yt+SIu0mZaUqSTFMg91Q/ZiKqoKPtoMoo4glTTxjc0QkQ7qaXdD6UasSSJQ0XTSSl1////////dTNSj888XGlx3/////9TxxA61bMaRtNjgxoxaeBCo0gpaQKABhP0ERDW+GFhdJmw//OExPo3FDqAAOZQ3AGis7ilDQuV1Ms8parT26OA2vgEeD3SEpyQNOrKCPW4eksinSWVhk4Z+KA0h24AJQmn0mT/Xu13Yo+EeLEgRwe2N42E4BWjCKolYqR8kRAUqF8ao3jYwL5adjXvo61Jzp6pHWrtr5sucRUiboqWvQT2nTNqkcwTZZ9qZlUgm02etWz3R55jc6eRWdT///7f/WPmlaadaEc0IkRMwUElxzoK66mpsI8NjqrndMKDMekgIt7W//OExNAr0waQAN5iuIudLPpEWaLFlbQdeQAX/ZARDfBIKHX7YCpp7qKbu+IjkkpmoIDZNGkOwlbLOl5s8Ygr2xVette5CbDdMZQUskPkScT6ZCFwPgbZNCWCfjE1GNZJQ7WdL9XX2pK6PbVqV6bonTW6qdbpOo8pSzam7rTMac1SQOKoMhWy6nzZnTn1uZmqIMPd/9n/3/6kTKrnIFN5dGuNlMJOTmwSLF5wZ0gpdjyCAuTOVU0oGpGAF2ZBNu1F//OExNMrSv6MAN5iuHF9FNZy7Gk6ZmJrPlylaAMOasIAFGjrFHfZIl1jARaQeUrsLhBLF2u2761ZBVh6zUi7u0k5GxyoD0I5MEYEHBXRJxGgPUZA9CUHM5fJheMDEnGho//1aTVr//6p43TOnErtQZbrrWtS0V3d0DiT1VKWulseTdZi87danmqlGlf///R3fnp5VUxBTZa8wAJj3jsFDpVIjjmIHKyZZiBGcmhCwGzgoBpdLy96GsAIBtgRBcUo//OExNgq2vKQAN4auGglAvxDyPNUfoX6dDaDNAfJeShJYWInwF4u5cYyFF9FxRyBI0SeM7uhsjNJGliahRlNODaSjUeDg2EssA6FKBSIAvhADorD4epu5v/7b///0Z6P/p9rps53mrN+lz/lC6v0f/+z/lGaZGY62RjEXmFwQas1Bq8hmCg8YqLR9F5AZjDobMnhgaAQjBoXBQsBzBoRFQCYcBRhoJA0Epkm4UPTBmIBqRUMsweKGRDRKEjpxdyV//OExNwj8tKMANvUuNTTLLcoy5Nyq0mV8bE/cIUaYstaPyKW61Vs6xvc1fxppdnhKqmcZilNNxWXSJ96LUR3yZxxta/n68iVVK1ql9dP9TKosS01bI12udWcdBSOMjxhS9pVkFBgI0cqAS+uun/////26t7O11dphjBjTxrG7066UXAATGF9pGCgiAEaze2rjEkJhw4jNqBxpTjDcjTIUZAgDhUCwgFklAIFIqApg0DBi+AZgAAbCgBFEhWxLdWl//OExP8v++ZwAOZE3bm/EIfWOaiPLtqitZ2PtWsZTetzMVo2QyBxatnGtrPC1nhz+0usquPblHYpt2pV2Uw7b5eo/pM+4/+H7YjIpjMbsyttTnsrVBDuY5hjs4sMxjEUhwFEZznYgdkATHdmOQkRHAQQIxLadrznSqf///2npSmjM2qnsqwwGPJlbmjKS+AgcmxrEg5TTDgPjyZRTHAODKiijPkbigiTIoUBYV4cMFwEQlmA4XBUCV0nZXGPGIQy//OExPIvo9pkAO4E3GceRRV/lhaeGMvm5bZpZv+18b2O8KSrlZuVcsYxWv3LXzXLuPz/MPzmKhJaaCTaRQkQWFhY6WiGi4en5+Pn/v/+OJ+o167uInhFuPu5Qkdws7ETiPVXIhQNfMW1mqdK9qu74iTTx4Z/6XODdsIIF5QVv2xRhWpZpgmEZ0YMZimEJgRDxpIM5gkKByC3BpwRBhcOxkcCa/gSITvgACQcapg0ApgOBphmBZcNY7fj0htivGyg//OExOYqEv5gAO6QuNjTlU8yKnMn1usHfh6241ar3i6anrmuXVpNwYNN2lxXFpayUa6xYbzEqjkeWzrMa81bat/s0TKzj7uPn3irb4i9pe7yaMMUUMGDLpeWu3595KQkpSE2Z4NPgJ3Ug4XUZDjyZmuPbXrrf//+viOqmeqS/X5mLuv///q4yyPe7f3VSdMFBgNDZ8M4AYMXxwOc0ZMYQJMmHPN7B0MHxeJByQsSyDgeSLMKQIMHRbf0qEMaR6ci//OExPAvK+pYAOvQ3WntJfR55U2sYnYOtSu9ldqbywy1hbufes7p+VM7u7VqYyr7s4dv4a7lhnX3vuN78NaElUL1K1U/xKuTEXCdsic3/fKx11OlvduZY13exQwatnIOd2RUcyhhgubJ0kMIzCcPBECxYwZZo1JHzXPKNVzr6/f/8fvFc9NCPJBN553Pn10+rb2tO6rxLVGBQUmZMCmIgjmDIMmei0ExCgYARbiR4pjAkEjDIGgYAZgkCKm8pAoN//OExOYu83pgAO4QvQMBUAGTqhjCFFajCEFeMzbI9sFw83OHIzSWql/DeedNEL17eVLD9epNyLLlS/SY58wvfhq/zQrGmcFYSFk6PViPez66dLtt/+iyKscIKlnORxOg1kURF1AQQEGHjB6IsqusCjhYODxUekHDDyBUsYeZf+wdqqpMtKZRB9APi6LGrsWqZ4BQuaK3px0NjgXNjx02ACIeNzpsMUynQAFLOoDSSgaOIiuyYZKcBGLEC7xgkIoI//OExN0rCq5sAO6KuBwODk7M90yAsChUN13vPKHHgaKROmfRWxfjwAEHFn9Tjp3JlFFSZ5YXu/nuvyretbCZiGQAgHHjDMK3Q5hRGkS99+SXp+73XosykZxQqvW7sS52OOGigqQXH0EUiTCbMNcjCpQHFYmWEJJn/9f7Eemu7aWvQqoCAcwmKjZEaOihgcHpGRDSRpMWEc18jzMo8RrCDVQEADYM9rFmnRNsrquQgGV0zlrQ4MssaSApSgRpQArK//OExOMpUrZwAOaKuB7SGqFzEKkMxpqxFdFkRIoNA0qNlqViPw8cOLolOUQuQugrWpunu0kxP0iqCQCRFgQYDtSMgonDu/Kcrd99A9Z5UE+r37Ki9yfT1X/7VMHWjM+nptdHGJGyV7xve84VMGwCMNWLQsY7nfiDNVtSA21MeUsVMJ+NRUgwAAsCCMDNqNLjUMBAWMC2oNyjsMAgtMgTFMzhUMBAFMGhUJhMGAQCAjCwGjIHMCgWKp1K5RNXsyMv//OExPAtgnJkAOYMuOus1lpD1U7ysckUQa41R513vUQgoAyZcWUNNM4HhQ0MLGgFjIzkzCm7hotEhSOJasaSM5g1gCyhcBV8LdVg8GRFp7SF6LoRnL9J0hcVJtU6VcNrgpIlSQzMZU85TPxD8bfzKRkNMZaYC/rDS5PYCqYnzeqU92GzA+XblF3AT8isYGSDajAqMSRr1ePIyGNDSf5/G0AlmwVY/4eC4RG40FafyMT7Uq5Ks8BTuUCY+RD4Sncl//OExO1OnCpcAO5e3ZQ923vHF+pFyrlk64neUiQKxnU7e1ZfskeNNeDGkh+I50iuLO2NsJUVhMj56zsDXZUM8JyYHHbBLDnn3AzulvSaWkfDbGkY8WdZj3BytYeQdBmoNhDMHAkGOgjtphACCIwmOBi0ghBQJAb9RNGO/Ek1OUSZkxLWSY0r30tNI/yfqcpnJkelstDpQQOX6R6FbX2c5ctPPNlvQ60STsqWCcuCElk92cpTixVPBoQOteGy9bN4//OExGU6c+J0AOZW3C0BjiKPqCMkKoKOz7QEs3fxWx9jn5a5/N87oZXNRd1xT7OPeTz5qSFNy7yZbVCSIF5OslG0k4dxoPwgTAE0dIfQQQRDho+3nbOnViSecbHi4bjA8GQ9jqKUDM6+H9SxtS2Uou4/2/////XxcHraw3WYp8RxcvRoxNGIw+KtCOQfO3lBRykdCwUDpg2aGUwyWrMHNQyyo2SEQUM7glMYtOYRAU7EkfMayu+xlwpbWgKlwbvY//OExC4uq758AOYO3Ox2zhVgXCvLqz1t0rPSWBMjS9J4sTbI1Grx0f1EJPBD6SeYfRoUrRNDgW17s8fZp6tj2tBZm6stQFw6xFyaKmoMprLn8y/W/56dE7fnWechd0OJOY6FzVkzzJAsYjGGMIw8JSBYSCRhpxUmqnz2cpPMUXjQPEgmLmX9f/////0dLbUfOWw+cBwoss93QhkEI1CKEE3faQIV0dZFyB5gwlGTwkvcUAZQJLLPF46jkEamFq3I//OExCYtIrp8AOYauMP7YuTncJbhUmb3KT7D+0VhZLiQOQsAaqUUQnjEmwPc1inf2Txqv71P1Ov+u2ukekCSgswW0cImgNolFAjw8hrBWidHqdMjFFB9mUvrQWo021LevtU+k7dlpumt1ospajZjiLHTM6MckaZkkgZOx1KqcSTY2OFhALo9gdDoVd2LZ/+tIlNir1uzzyzbR9K6lxYAAUhBpMDILmCVkaFDAVD5ksSCQbhoLAVCmghp55ewJQw2//OExCQpCvZ8AOPQuLvCvZ4zRfFriSeFCeQ6vI8J7Q5iiR4SUZh7hHTmsfrWrd6YYsFvWalAXqOfwWdjhCEc04PhgdASKEqm3SzVfCVEaklh07wrqqjN+N7pY+avjfnXuIb+1eLK7rUr7eLZ+zSqQ0aYTQ+nq4W+tEQiGjDCXTn3XGFus5oTNuZtlPWKVX3CgkdunGdkwFRRZ8CAJVxjAqimCgmifV/Yd1MwzGYVa9exYOt//fzmLr23besSSNuk//OExDImmzZoANvKvEngN4hSqvCpZXRq6kYrahR66vWL86xeLWDV6JHItSoZvKg0BRYRFYdxIWq3Tbb1e/5S2o6lNcrFKUpjGMaaYspUMJCxiiIdEQ6KsHQ6LJlRWFpSGcweMbLoLPuUwGciIiWZkvT6jwiiipjQHi4IgaODSxX25SEuRP4+jDHU5T0CHp9Rx1IhC+TtyLeca8QQXA4NSKwg5c0+F+Iejy/oXAdn4aBkTKRgx2S8eGr1fHj7vHga//OExEom4tZoAMPQuLyW+9yWLi5YueQKGGeNtxRIFAaDi73FxCBYDQgUBoKHxy/wKO7yLi7wm7xTzN/PXxSTPc3ylcV8/CVMJWiIWLnukmGFny7GJdRuZr/+pnzPrqpLYyy4xyAwQQRnzXnzXtxYOZKEcFWZ0YY4QlKGI1DQMbRAY0vdPpZyQjJIaU1d6BgQBphfNHtna9AVgsiBQrzf0tm1gDGTqbizhhyNzFEvqdsLO0TWeOYrxvHDZWzSEOvu//OExGE+G8pkANYY3QW2zqfvSiXTlfGktW5JK5+XNpUdiPRKN3XKmnKtZRmOVY3OykdmBYKRMwaUh0pEsf1Byt+EfVxza7SGTVSxtOfoWKnarua98sH1bIaY5ZdVxI0SEdzjNp44hrzVbN9Y5q4q5DLLrjSUknpsXEtywf2dh+ltarelf+udttnev1unb0vmbS8/3fm5fpy222rVcn4c4/FHI791sCMUMylQIDgl7OJKgwfM9FDEiEWEgGRmpJJr//OExBstol58AN5WuLKmjhJl6qTRRgIqRF6Vy1A4sKklCyIKOYYA5RcccFBx7eg6MwGCqaSHBopQ6WTkCgb3rHgxu7WHmXnF2ZvA5IyIx1dwGnY0ISQwNacDxuJWZLC68D/BkoPjTdYwDwkBAdHgEIxJAGCoCAEgB4cBHLiDIdZ7IYeXiGUyPr////9v72NUZn4fL693UTcEgaGCjOMYFLLFKecxQEAAhbK5znnkujXDhp0QFRoyuww55l5gBoCj//OExBcnWYqMANZwlAjMmUTGWgGsKqgBhuIyWq5eQkS7qaaGoqC6DPgUapSa8ZlCsQDPU3i9i6lz36BXsta/PNLsQA4sEwPKVcNZUAVtgQDLflsDiyaWR6hq3JbZv509LSYzNNlSRqWSl/bsphF2O00op6XOzOcrsD3/8qQGi48Y0Coh0MpSwfQypTj5BKz83uUxCqZW0BpErDT3kKCEqUFX6BVF2CBY0IhShmVuYTjiRq0aoQqlQJtyDj9YIE0A//OExCwluZ6MANaelKk3pY0LKxgILdGGgYuVjEZEuZ1olmLwdAcDbcjqucD3Zro+p3NiHm8xhLWUSBnZkHInZkRbpuz3SstI6lYaJyFtKMJ1Rigoi92VdIn+dzoVPuZ/UlBFBySGGQ2li09TaTg4YeOLBZlyVOpXmSqCFT70gm61ksDVmqPlv6YCjXtIDZMUIC5hDVKAxWHggciabqLNS4ISiiGKTae5GWgKPGF2wojD68n9wbjk3fCSyzODffGx//OExEglsmqQANZauB2Wchj4/egF7MXglyfz9QaxfFzpJFBQ6rG5AljQwIzDcohGixaGIWBNCTsJqbGI8lF6mkYpUqTXv///9Wqta12oHVOdN1hgil+mocebNGmwIwJ3SCXRxmhQSJEMVawDm08DmkPlRezVXgn1YqfLSXwAEIkhwd4IFAzsMigyWRVXZVAJuVJdlACZ6jTfy9iXYFzemBa8PbhO3rnZiW/IcYLnZRDu2+oU260ErUJgXEuiNlom//OExGQnynaIANZauOkXBOTow54aDY0DhOiBkYagvo0EwqESSYV54wG1AyldNlLtT//+3/qSqumcMmNkzBLMElNVFc88xSPNKo0iCdIYrw3qIiEFgi09O4FBHsEjzyig8MHkp4yQ9GY6E3OC70OLAiwj+JN7FQGIDg7+NwBCrtCoVA3J55uE5O1ORGxdilSXWIj2tT1L/KW3TU92MZ3nHbqpYFAB8VQbRMESPiggx+YNzhDnCSLYeFgXQKATgKgk//OExHcmymKMANZUuApGhYGsZjhw9JyIfkJhjtm//1///utDpQaiYTMc5nol4qHjdNWZReELNuYA7lrxwCuKLAgTD4MOp1o6jycZABn53wDkgoMiCobnigLE14wuSJ0tzMYctGDUAgta0FuI5ViJVaeMyuU2K16vSyulp9XqG9X+npqeaqV3eibrjlDuSow5dHIMKXCRNkx5F8eJgXB5KFsTxNyVEkNx6BfSYQC8Ph+gZER0DW19v////6SbLWib//OExI4lomKMANZauBTNuMyP9bJmtajIzbxGnmOCkaNgocgcEYMM2IA5UCKPmSIlAYwis0wxI4WkvQQgJtuoDAR9Du4rQwwTMBSgsNM4WM/DlvxHpfcgjOvTUcnwmreNSvVxvy7mFuzYoYldjTjO4FcJ+RyEOpLjgHcPcvD2Ls1HkQhiDuE/KQww2JiWEkO8ZQ8hhB7DvIJdNkSgsxVsyf/6v//6lJOnWfTMTf/ULSQPnBqeLmHqJl2DFegUuaUL//OExKonOmqIANYauBFStp6nQgHowGGDGTCCpI1R8wgcsDREDsGciHBy1uKRhbD1upehUBCpwarmOs7soj09RUuHMrt7tNzdF+u491f7Z1QY539PugAgaCgNiWKhFYaDYKCUTCcsFShYJggAOG4FxgHILgoI4+JZEVmCYkQGqGtO/////0WYYNhYWYeYkbG7NpdbUPNp/9VdgkY+NcsUiJLwAAABVBAAKucRiJ9g0BWMEiGIej2W5ZAAjM8ZE4C4//OExMAmKm6IANYOuJM26r2VLqcJBO/yU8VhmOw1Oaw1Z1vHL6buX63z/y/LuX5YYZUkqIACYEgbyGII+PRckubJyaSH5cPw6h6NTUdzh+EIaiQmTS5dRM8n8xu4r/////////+Li306GSuel1zN8dO3w6GVXKnCoCOv/9AwIATEaCOAgswWljZo8MOCooBghEBhcCGAQKHDUgCZhwDgkGmJAmXNBwRVee5NiV0mAaaJJA0C/gSZcIiGuUQHL0Kl//OExNolutaEAM4WuGxvDLIckFS3eo56VWbMplPKWZlsYmbluX5dy1Y793sZlcRKEZLMlR+E6cpHymcm5rTrCuW1DVKwoaexpKpDkgXJucl06y1tb3wa0zje8Yt86rXf1/////////86taRVJ6FAWmKsr34rm2X3i6s20xl9i1oQfLDXHrPXXeROh0tVJQoMW4KN6SEHibMMQIAAflYOMsWCMAgbMEgBkJf6b5DzFkeQF4AqJMhSYIMN4pyBG4GK//OExPYwisJoAOYeuG4I6WgGYUZwG8eJzJ5aRSWZZXGAzZTsS+H2V0dTWqYKtVr2sFWoTASIOR4Ew7SstzypNk615qPJNBBG0B6TSaaDcPznLkkbQ8konJJ0dRaapO2w7hze9rW//////3PxbCUHpe5O7WpHnAqMDoaEI1wVdvlfSIgaBoc///6lMGhyNr7iOC0eMPQzHgsIA1MPAhny8Lxpqy2BbNC8KCUHAyyahV0YTJdP7aZbMsCbO7sdhLhQ//OExOYr4oJMAOvWuDRWHqWlvY9pbuqmeMt5vcpnZi9llfvVsaWWzWVamrDYkHQAQLhG0hjtckwWlRUo0QQakg1D1CSCSeQ9RQ5FDUMb2ZYiruH2775nG01VG1RbVbDqK+2nmGtVmH6d7pdfYe+X3t7CTkNqSv5dVaM3APxa5pFylXX+6S7r1XrJKjFg8xvgM/LBYbXwj0j8/9d1XZj0Jhhr2aqqbT5M/tu2JwzT+YWguSLJu5czY+cscW1CeWs2//OExOksytYkAO4QuXVLayrTq+uOc2fVtA39l0Mte1kw3r0sbb70mY7TPss4pzTU7tTkbbY+ZsXjMjepnufmR3ezV1uGJHFlVST/K9lECqMxL8016qDCqz59oa1vTlFLOlqnvO66lJLp4OXlsl6jW3lU5nNeL3S7PeUdf4h9xG2S5zdEysmislXZceoKOYkBCpMKuhDvR13YCls1u5cuu67KtsDvDEJkyCQPiUqw1FPSolQoRKqHpw24sp1zjbLT//OExOgtRCIUANsM3ZEv0K25cqpdq3yZy5octDBfNjbXTZl/UvvmzcpVV5f0jOWb6jWlu1ORxqJUdbGElU32qo6Z2mNRmmaWSc5LYw3y7vi6BYvCX1RVXKJGqx63xzYmtPxnq0e1owlea3l0cqvrlXDWBJEqVfRN8eNGpoo9itGhkOhIdYnVK50t7L52ms9u162Ws5iVSiPz3KaNUHBKuNNhhVxIgNJOniAiZJCO1LRoF2mSjOro2lZQSm1pNcZv//OExOYrC/oMAMpM3XsllJq7dY0mbhpdCPLkFOZhqSsDdFITYQYSL91elnM84ks0ac/1tk0+DclaMKR+76Io7qVd3hdpDqIx16vM1zdrTFoQVpCyeJ0hBXT00rHhC+debHI4cfzppX+/1bJKdm6jJZczVT9vUOrea2s95FKnHdEum5tCK52s71bD62Vm7a5Zt5xy7hqpqckVXNoktpQVk4fJllxS2eQo1m0B4gxRBzVIjZdPBtLMDWsG2ag+zpVr//OExOwr7DH4ANJM3XBU8pO4MOVxdXRKwmsxBRidGVkmLOQtcIkbe4ZzPF2VNWCSNMfLKPh/B6jHTvI/g42lIGSSykvOLi5RzltgNPpNHDWlSZhRHT7KhjlemZf7pKeblOkZNVeGqxHlNv6uaUv0c1IMXmPco7cvCzEj5c3cZMtqKXNrOrrK7T5atU1+en9Tc7jjHokfEBKrAOPdJ5GJZVNkkmbIhW0K0Cahzpo20KNfCJBGJnSYuMHl3FTQbCQ6//OExO8r5DX4ANJM3MChpd5ZYyhXJGYCNS28XmgFaJFaMJpIEfiFh2Rcq6Y+ej5zLItKz2IJHKhMlastbN8Nui8tD6y4pakqw/p0m5ChNukhBoYtCKIyVz459UYgfonLQH/zHkG9XiPwrbkiRMyJ1ms8yosjZ5RtgdOOhGFkHvSKTpQShGGupOonM52Mc7u6TO5Wv6zx7nKN1933JpN0RzyxEfWbseFeBcS3IYrs5VCOTlUt17IU7rQ5Qu1jgRof//OExPIupDn0ANJM3NsqL8fYu83SzNIV7l4ZP/jxXPvVgSYXJqZZ3jUAblyezIYKVi9nl70D0eV8f3mpGT+0KOD/mGX6OikLbzHSOXLn9N2Kgpy1HXusmekl6py31Oztq0LTaUoTIwmnUKTnnIpmSd6dZVS27NZCzvl1E8j3VdWchHycNHS2Cl7FGbOK7UdgyURuTT0thqhpLdu9flpEuoTVAmuMfEsjJvpC4qydAydMrTFJw0oGuQnB7JIVplRL//OExOorhBn4ANMM3ahSmzFDaHFpItxbFryXRTchqU0NTI9yKJxKiVUVpGKOtQME5XZ0aunglrPncicvKmWIqqtYk8RTVR1kSNoEnK1qOgBHovLUSznaRxyKkTrzcOue7bNPglI3O375My5GHI5Ob6fKyYJXOeWIqp8UqFTCjkwbiwVqN/iDIAMGLQsU5cyH4Agp4YMhuHJHArvOC8MAQ3FB8WEwVEQPCMkNnjQpCwKg6ICcwfMkxCNB4jMGjJMQ//OExO8sk9nwAMJM3YiGQ+QG2ZXFEVKnF2G4bGUrh/dX//mxRFSxZdA27Y1LxublSzXG5s0WXG5///uVNGnFlxeVLP/TtuUROOPMtBaJI0sxNS0SQKKAiaC8qad82ak40CKPjc/mqeLxZEkJEmHoblScVcbmzRZcbmzUs15ud2d83O7OzblOz//t/s0bTEFNRTMuMTAwVVVVVVVVVVVVVVVVVVVVVVVVVVVVVVVVVVVVVVVVVVVVVVVVVVVVVVVV//OExO8u/Dl4AMJM3FVVVVVVVVVVVVVVVVVVVVVVVVVVVVVVVVVVVVVVVVVVVVVVVVVVVVVVVVVVVVVVVVVVVVVVVVVVVVVVVVVVVVVVVVVVVVVVVVVVVVVVVVVVVVVVVVVVVVVVVVVVVVVVVVVVVVVVVVVVVVVVVVVVVVVVVVVVVVVVVVVVVVVVVVVVVVVVVVVVVVVVVVVVVVVVVVVVVVVVVVVVVVVVVVVVVVVVVVVVVVVVVVVVVVVVVVVVVVVV\" type=\"audio/mpeg\" />\n",
              "                    Your browser does not support the audio element.\n",
              "                </audio>\n",
              "              "
            ]
          },
          "metadata": {}
        },
        {
          "output_type": "display_data",
          "data": {
            "text/plain": [
              "<IPython.lib.display.Audio object>"
            ],
            "text/html": [
              "\n",
              "                <audio  controls=\"controls\" autoplay=\"autoplay\">\n",
              "                    <source src=\"data:audio/mpeg;base64,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\" type=\"audio/mpeg\" />\n",
              "                    Your browser does not support the audio element.\n",
              "                </audio>\n",
              "              "
            ]
          },
          "metadata": {}
        },
        {
          "output_type": "display_data",
          "data": {
            "text/plain": [
              "<IPython.lib.display.Audio object>"
            ],
            "text/html": [
              "\n",
              "                <audio  controls=\"controls\" autoplay=\"autoplay\">\n",
              "                    <source src=\"data:audio/mpeg;base64,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\" type=\"audio/mpeg\" />\n",
              "                    Your browser does not support the audio element.\n",
              "                </audio>\n",
              "              "
            ]
          },
          "metadata": {}
        },
        {
          "output_type": "display_data",
          "data": {
            "text/plain": [
              "<IPython.lib.display.Audio object>"
            ],
            "text/html": [
              "\n",
              "                <audio  controls=\"controls\" autoplay=\"autoplay\">\n",
              "                    <source src=\"data:audio/mpeg;base64,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\" type=\"audio/mpeg\" />\n",
              "                    Your browser does not support the audio element.\n",
              "                </audio>\n",
              "              "
            ]
          },
          "metadata": {}
        },
        {
          "output_type": "display_data",
          "data": {
            "text/plain": [
              "<IPython.lib.display.Audio object>"
            ],
            "text/html": [
              "\n",
              "                <audio  controls=\"controls\" autoplay=\"autoplay\">\n",
              "                    <source src=\"data:audio/mpeg;base64,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\" type=\"audio/mpeg\" />\n",
              "                    Your browser does not support the audio element.\n",
              "                </audio>\n",
              "              "
            ]
          },
          "metadata": {}
        },
        {
          "output_type": "display_data",
          "data": {
            "text/plain": [
              "<IPython.lib.display.Audio object>"
            ],
            "text/html": [
              "\n",
              "                <audio  controls=\"controls\" autoplay=\"autoplay\">\n",
              "                    <source src=\"data:audio/mpeg;base64,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\" type=\"audio/mpeg\" />\n",
              "                    Your browser does not support the audio element.\n",
              "                </audio>\n",
              "              "
            ]
          },
          "metadata": {}
        },
        {
          "output_type": "display_data",
          "data": {
            "text/plain": [
              "<IPython.lib.display.Audio object>"
            ],
            "text/html": [
              "\n",
              "                <audio  controls=\"controls\" autoplay=\"autoplay\">\n",
              "                    <source src=\"data:audio/mpeg;base64,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\" type=\"audio/mpeg\" />\n",
              "                    Your browser does not support the audio element.\n",
              "                </audio>\n",
              "              "
            ]
          },
          "metadata": {}
        }
      ]
    },
    {
      "cell_type": "markdown",
      "source": [
        "파일전체를 읽어주는것  원래 소리가 겹치는데 time을 써서 간격을 억지로 준것이다."
      ],
      "metadata": {
        "id": "e1fKgbq6anNU"
      }
    },
    {
      "cell_type": "markdown",
      "metadata": {
        "id": "3UTLuSAp8GGY"
      },
      "source": [
        "--------"
      ]
    },
    {
      "cell_type": "markdown",
      "metadata": {
        "id": "fmU7O8WS8GGY"
      },
      "source": [
        "### **[연산자]**"
      ]
    },
    {
      "cell_type": "markdown",
      "metadata": {
        "id": "eRCyhgwS8GGY"
      },
      "source": [
        "### 실습문제 :  동전 교환 프로그램\n",
        "동전교환 프로그램을 작성하세요"
      ]
    },
    {
      "cell_type": "code",
      "execution_count": null,
      "metadata": {
        "id": "g8A7ErL78GGY",
        "colab": {
          "base_uri": "https://localhost:8080/"
        },
        "outputId": "6b7408e7-fc7f-40e4-cc3b-52e1c4c5feb7"
      },
      "outputs": [
        {
          "output_type": "stream",
          "name": "stdout",
          "text": [
            "---동전교환기 프로그램을 작동합니다.---\n",
            "금액을 입력하세요: 4321\n",
            "500원짜리 ==> 8 개\n",
            "100원짜리 ==> 3 개\n",
            "50원짜리 ==> 0 개\n",
            "10원짜리 ==> 2 개\n",
            "잔돈 ==> 1 개\n"
          ]
        }
      ],
      "source": [
        "# 키보드로부터 금액 입력 받기\n",
        "print('---동전교환기 프로그램을 작동합니다.---')\n",
        "money = int( input('금액을 입력하세요: '))\n",
        "\n",
        "c500=money//500\n",
        "money= money%500\n",
        "\n",
        "c100=money//100\n",
        "money= money%100\n",
        "\n",
        "c50=money//50\n",
        "money= money%50\n",
        "\n",
        "c10=money//10\n",
        "money= money%10\n",
        "\n",
        "print('500원짜리 ==> %d 개' %c500)\n",
        "print('100원짜리 ==> %d 개' %c100)\n",
        "print('50원짜리 ==> %d 개' %c50)\n",
        "print('10원짜리 ==> %d 개' %c10)\n",
        "print('잔돈 ==> %d 개' %money)\n",
        "\n",
        "\n"
      ]
    },
    {
      "cell_type": "markdown",
      "source": [
        "### 실습문제 : 비교 연산자를 이용한 상품 필터링하기\n",
        "아래 상품 딕셔너리에서 가격이 1000 이하인 상품을 필터링하고 상품과 해당 가격을 출력하시오."
      ],
      "metadata": {
        "id": "7GL-zafcQwDq"
      }
    },
    {
      "cell_type": "code",
      "source": [
        "# 상품 가격을 가진 사전\n",
        "products = { \"apple\": 1000, \"banana\": 800, \"cherry\": 1500,\n",
        "            \"date\": 1200, \"elderberry\": 2000 }\n",
        "\n",
        "# 가격이 1000 이하인 상품 필터링\n",
        "print('가격이 1000 이하인 상품 필터링')\n",
        "print('-'*30)\n",
        "for key, value in products.items():\n",
        "  if value <= 1000:\n",
        "    print(f'상품명:{key} 가격{value}')\n",
        "\n"
      ],
      "metadata": {
        "id": "78IAx7VkQwW_"
      },
      "execution_count": null,
      "outputs": []
    },
    {
      "cell_type": "markdown",
      "metadata": {
        "id": "0SWp1LN08GGY"
      },
      "source": [
        "------"
      ]
    },
    {
      "cell_type": "markdown",
      "metadata": {
        "id": "x4FIhV_y8GGZ"
      },
      "source": [
        "## 3.조건문과 반목문으로 흐름 제어하기"
      ]
    },
    {
      "cell_type": "markdown",
      "metadata": {
        "id": "LPe_skHf8GGZ"
      },
      "source": [
        "### **[조건문]**"
      ]
    },
    {
      "cell_type": "markdown",
      "source": [
        "#### 조건문 구조 4개"
      ],
      "metadata": {
        "id": "HIFAD_kqX1uL"
      }
    },
    {
      "cell_type": "code",
      "source": [
        "# 조건식1: if 조건식\n",
        "a = 99\n",
        "if a < 100 :\n",
        "    print('a는 100보다 작군요')"
      ],
      "metadata": {
        "id": "d9jDMOjbX4hu"
      },
      "execution_count": null,
      "outputs": []
    },
    {
      "cell_type": "code",
      "source": [
        "# 조건식2: if ~ else\n",
        "a = 200\n",
        "if a > 100:\n",
        "    print('a는 100보다 크군요')\n",
        "else:\n",
        "    print('a는 100보다 크지 않군요')"
      ],
      "metadata": {
        "id": "9ehdd_YIYEus"
      },
      "execution_count": null,
      "outputs": []
    },
    {
      "cell_type": "code",
      "source": [
        "# 조건문3: 중첩 if - 조건문 안에 조건문\n",
        "a = 200\n",
        "if a > 100:\n",
        "    if a > 200 :\n",
        "        print('a는 200보다 크군요')\n",
        "    else:\n",
        "        print('a는 200보다 크거나 같군요')\n",
        "else:\n",
        "    print('a는 100보다 크지 않군요')"
      ],
      "metadata": {
        "id": "nOi_cwzoYE2u"
      },
      "execution_count": null,
      "outputs": []
    },
    {
      "cell_type": "code",
      "source": [
        "# 조건문4: 다중 조건문\n",
        "pocket = ['paper', 'handphone']\n",
        "card = True\n",
        "\n",
        "if 'money' in pocket:\n",
        "    print('택시를 타고 가라')\n",
        "elif card:\n",
        "    print('택시를 타고 가라')\n",
        "else:\n",
        "    print('걸어가라')"
      ],
      "metadata": {
        "id": "T_P0EQFeYFBE"
      },
      "execution_count": null,
      "outputs": []
    },
    {
      "cell_type": "markdown",
      "metadata": {
        "id": "Io13oQKLhgph"
      },
      "source": [
        "#### 조건부 표현식"
      ]
    },
    {
      "cell_type": "code",
      "execution_count": null,
      "metadata": {
        "id": "h0V6WqWchnTA",
        "colab": {
          "base_uri": "https://localhost:8080/"
        },
        "outputId": "43da61fb-5479-40d7-c130-8ac633b36376"
      },
      "outputs": [
        {
          "output_type": "stream",
          "name": "stdout",
          "text": [
            "점수를 입력하세요: 64\n",
            "success!\n"
          ]
        }
      ],
      "source": [
        "score = int(input('점수를 입력하세요: '))\n",
        "message = \"success!\" if score >=60 else \"failure!\"\n",
        "print(message)"
      ]
    },
    {
      "cell_type": "markdown",
      "metadata": {
        "id": "Ar6JKwtB8GGZ"
      },
      "source": [
        "#### 실습문제 : 짝수 홀수 판별하기\n",
        "숫자를 입력 받아 짝수/홀수를 판별하는 코드를 만들어 보세요."
      ]
    },
    {
      "cell_type": "code",
      "execution_count": null,
      "metadata": {
        "id": "09w2BCcN8GGZ"
      },
      "outputs": [],
      "source": [
        "x = int(input('숫자를 입력해 주세요: '))\n",
        "\n",
        "\n"
      ]
    },
    {
      "cell_type": "markdown",
      "metadata": {
        "id": "3SDdg7Aeg7MW"
      },
      "source": [
        "### 실습문제 : 커피 자판기 조건문\n",
        "아래 조건을 만족하는 커피 자동주문 머신을 만들어보세요.<br><br>\n",
        "[커피 자동주문 머신]<br>\n",
        "친구들과 현금 커피 자동주문 머신 앞에서\n",
        " - 아메리카노 2잔과 카페라테 2잔 카푸치노 1잔을 주문하였다.\n",
        " - 아메리카노 한잔에 2500원이고\n",
        " - 카페라테는 한잔에 3000원\n",
        " - 카푸치노는 한잔에 3000원이다.\n",
        "커피 종류와 잔 수를 결정한 후 현금 15000원을 투입하고 잔돈을 1000원 받았다."
      ]
    },
    {
      "cell_type": "code",
      "execution_count": null,
      "metadata": {
        "id": "BZlOMJHKg7dN",
        "colab": {
          "base_uri": "https://localhost:8080/"
        },
        "outputId": "a13ded25-eb12-47ac-d67c-34d2eb325521"
      },
      "outputs": [
        {
          "output_type": "stream",
          "name": "stdout",
          "text": [
            "[커피 자동주문 머신 메뉴]\n",
            "------------------------------\n",
            "-아메리카노는 2500원\n",
            "-카레라떼는 3000원\n",
            "-카푸치노는 3000원\n",
            "입니다. 원하시는 커피종류와 잔수를 입력하세요.\n",
            "------------------------------\n"
          ]
        }
      ],
      "source": [
        "menu = '''[커피 자동주문 머신 메뉴]\n",
        "------------------------------\n",
        "-아메리카노는 2500원\n",
        "-카레라떼는 3000원\n",
        "-카푸치노는 3000원\n",
        "입니다. 원하시는 커피종류와 잔수를 입력하세요.\n",
        "------------------------------'''\n",
        "print(menu)\n",
        "a=int(input('아메리카노 몇잔?'))\n",
        "b=int(input('카페라떼 몇잔?'))\n",
        "c=int(input('카푸치노 몇잔?'))\n",
        "price=a*2500+b*3000+c*3000\n",
        "print('지불할 총 금액은 %d 원 입니다'%price)\n",
        "cash=int(input('돈을 넣어주세요~'))\n",
        "if price>cash:\n",
        "    e=price-cash\n",
        "    print('입력한 금액이 부족합니다.  %d 원을  넣어주세요 '%e)\n",
        "else:\n",
        "    f=cash-price\n",
        "    print('거스름돈은  %d 원 입니다'%f)\n",
        "\n"
      ]
    },
    {
      "cell_type": "markdown",
      "metadata": {
        "id": "4RoolGBF8GGa"
      },
      "source": [
        "------"
      ]
    },
    {
      "cell_type": "markdown",
      "metadata": {
        "id": "G2T6Nybt8GGa"
      },
      "source": [
        "### **[반복문]**"
      ]
    },
    {
      "cell_type": "markdown",
      "metadata": {
        "id": "HuWJNA-T8GGa"
      },
      "source": [
        "### 실습문제 : 1~N까지 합계 구하기\n",
        "숫자를 입력받아 1~n까지의 합을 구할 때 짝수를 제외하고 합을 구하는 프로그램을 만들어 보세요."
      ]
    },
    {
      "cell_type": "code",
      "execution_count": null,
      "metadata": {
        "id": "t4NbQOOe8GGa"
      },
      "outputs": [],
      "source": [
        "n = int(input('합계를 구할 숫자 입력:'))\n",
        "hap = 0\n",
        "\n",
        "\n"
      ]
    },
    {
      "cell_type": "markdown",
      "metadata": {
        "id": "p7P0Vy-XjIBz"
      },
      "source": [
        "### 실습문제 : 나무 열 번 찍어 넘기기"
      ]
    },
    {
      "cell_type": "code",
      "execution_count": null,
      "metadata": {
        "id": "A1OSHn1tjNE5"
      },
      "outputs": [],
      "source": [
        "treeHit = 0\n",
        "\n"
      ]
    },
    {
      "cell_type": "markdown",
      "metadata": {
        "id": "iPCnjI9UkoHr"
      },
      "source": [
        "### 실습문제 :  커피 자동주문 프로그램 업그레이드\n",
        "앞에서 만들어 본 커피 자동주문 머신 프로그램을 while문을 이용하여 돈을 모두 지불할 때까지 돈을 입력 받도록 프로그램 기능 수정하기"
      ]
    },
    {
      "cell_type": "code",
      "execution_count": null,
      "metadata": {
        "id": "HtKho6P3kxtS"
      },
      "outputs": [],
      "source": [
        "menu = '''[커피 자동주문 머신 메뉴]\n",
        "------------------------------\n",
        "-아메리카노는 2500원\n",
        "-카레라떼는 3000원\n",
        "-카푸치노는 3000원\n",
        "입니다. 원하시는 커피종류와 잔수를 입력하세요.\n",
        "------------------------------'''\n",
        "print(menu)\n",
        "coffee1 = int(input(\"아메리카노 몇잔?\"))\n",
        "coffee2 = int(input(\"카페라떼 몇잔?\"))\n",
        "coffee3 = int(input(\"카푸치노 몇잔?\"))\n",
        "\n"
      ]
    },
    {
      "cell_type": "markdown",
      "metadata": {
        "id": "bBpYo7he8GGc"
      },
      "source": [
        "### 실습문제 : 도둑잡기 게임 만들기\n",
        "경찰에 쫓기던 범인이 3개의 방 중에 한 곳에 숨어버렸습니다. 범인은 방문을 열 때마다 무작위로 3개의 방 중 하나의 방으로 이동합니다. 3개의 방 중 하나의 방을 선택했을 때 범인이 있다면 100점, 없을 때 -10점을 부여하고 범인을 잡으면 게임을 종료하는 프로그램을 만들어 보세요."
      ]
    },
    {
      "cell_type": "code",
      "execution_count": null,
      "metadata": {
        "id": "Yjs0Tp0m8GGc"
      },
      "outputs": [],
      "source": [
        "import random\n",
        "score = 0\n",
        "\n",
        "while True:  # 무한반복\n",
        "    # 1.무작위로 범인 방 배치\n",
        "\n",
        "\n",
        "\n",
        "    # 2.사용자로부터 방 번호 입력 받기\n",
        "    n = int(input('방 번호를 입력하세요(1,2,3): '))\n",
        "\n",
        "    # 3.사용자가 입력한 방 번호와 범인이 있는 방 비교\n",
        "    # 4.범인을 찾으면\n",
        "    # 범인 체포“라는 메시지 출력\n",
        "    # 점수 증가\n",
        "    # 무한반복 빠져 나가기\n",
        "\n",
        "    # 5.범인을 찾지 못하면\n",
        "    # “범인을 찾지 못했다“라는 메시지 출력\n",
        "    # 점수 감소\n",
        "\n",
        "# 게임 종료 메시지 출력\n",
        "# 최종 점수 출력"
      ]
    },
    {
      "cell_type": "markdown",
      "metadata": {
        "id": "FTX-Fvb28GGc"
      },
      "source": [
        "------"
      ]
    },
    {
      "cell_type": "markdown",
      "metadata": {
        "id": "8tdBEUuy8GGe"
      },
      "source": [
        "## 4.함수를 이용하여 알고리즘 만들기"
      ]
    },
    {
      "cell_type": "markdown",
      "metadata": {
        "id": "A50BCkk98GGe"
      },
      "source": [
        "### **[함수 & 모듈]**"
      ]
    },
    {
      "cell_type": "code",
      "execution_count": null,
      "metadata": {
        "id": "3gNw75bI8GGe",
        "colab": {
          "base_uri": "https://localhost:8080/"
        },
        "outputId": "e7acbb1d-84a5-410f-aa73-6f9809287d13"
      },
      "outputs": [
        {
          "output_type": "execute_result",
          "data": {
            "text/plain": [
              "53"
            ]
          },
          "metadata": {},
          "execution_count": 2
        }
      ],
      "source": [
        "def nSum(a, b):\n",
        "    c = a + b\n",
        "    return c\n",
        "\n",
        "nSum(50, 3)"
      ]
    },
    {
      "cell_type": "markdown",
      "metadata": {
        "id": "ZH2oJDOzmgta"
      },
      "source": [
        "####  함수의 구조\n",
        "매개변수와 리턴값에 따른 함수의 유형 예"
      ]
    },
    {
      "cell_type": "markdown",
      "metadata": {
        "id": "ZVu_uCmBmwX9"
      },
      "source": [
        "- 매개변수(X), 리턴값(X)"
      ]
    },
    {
      "cell_type": "code",
      "execution_count": null,
      "metadata": {
        "id": "PhoFdGdpmg2i",
        "colab": {
          "base_uri": "https://localhost:8080/"
        },
        "outputId": "8934fe6a-41e9-4818-a4a9-4993e9b4c964"
      },
      "outputs": [
        {
          "output_type": "stream",
          "name": "stdout",
          "text": [
            "안녕하세요!\n",
            "None\n"
          ]
        }
      ],
      "source": [
        "def func():\n",
        "    print('안녕하세요!')\n",
        "\n",
        "print( func() )"
      ]
    },
    {
      "cell_type": "markdown",
      "metadata": {
        "id": "rYJvu1mKm1lA"
      },
      "source": [
        "- 매개변수(X), 리턴값(O)"
      ]
    },
    {
      "cell_type": "code",
      "execution_count": null,
      "metadata": {
        "id": "RtmltcdOm1sg",
        "colab": {
          "base_uri": "https://localhost:8080/"
        },
        "outputId": "1be1f277-32e8-4221-c7df-803ad5fd7094"
      },
      "outputs": [
        {
          "output_type": "stream",
          "name": "stdout",
          "text": [
            "안녕하세요!\n",
            "처리완료!\n"
          ]
        }
      ],
      "source": [
        "def func():\n",
        "    print('안녕하세요!')\n",
        "    return '처리완료!'\n",
        "\n",
        "print( func() )"
      ]
    },
    {
      "cell_type": "markdown",
      "metadata": {
        "id": "kAiXc3qom1zq"
      },
      "source": [
        "- 매개변수(O), 리턴값(X)"
      ]
    },
    {
      "cell_type": "code",
      "execution_count": null,
      "metadata": {
        "id": "mdneVBp_m16L",
        "colab": {
          "base_uri": "https://localhost:8080/"
        },
        "outputId": "22c83cac-8b5b-4c5e-ada6-e8857a136ac0"
      },
      "outputs": [
        {
          "output_type": "stream",
          "name": "stdout",
          "text": [
            "덧셈: 5 + 7 = 12\n",
            "None\n"
          ]
        }
      ],
      "source": [
        "def func(a, b):\n",
        "    print('덧셈: %d + %d = %d' % (a, b, a+b))\n",
        "\n",
        "print( func(5, 7) )"
      ]
    },
    {
      "cell_type": "markdown",
      "metadata": {
        "id": "UWx5mc2Bm2Ah"
      },
      "source": [
        "- 매개변수(O), 리턴값(O)"
      ]
    },
    {
      "cell_type": "code",
      "execution_count": null,
      "metadata": {
        "id": "u40Eqnc1m2IB",
        "colab": {
          "base_uri": "https://localhost:8080/"
        },
        "outputId": "376ecd75-a88e-465f-fe65-f7b55c33b137"
      },
      "outputs": [
        {
          "output_type": "stream",
          "name": "stdout",
          "text": [
            "덧셈: 5 + 7 = 12\n",
            "12\n"
          ]
        }
      ],
      "source": [
        "def func(a, b):\n",
        "    print('덧셈: %d + %d = %d' % (a, b, a+b))\n",
        "    return a+b\n",
        "\n",
        "print( func(5, 7) )"
      ]
    },
    {
      "cell_type": "markdown",
      "metadata": {
        "id": "Oq6XLdiqm9lV"
      },
      "source": [
        "### 실습문제 : 암스트롱수 판별 함수\n",
        "다음 조건을 참고하여 암스트롱수를 구하는 함수를 만들어 출력하는 프로그램을 만들어 보세요.\n",
        "- **암스트롱수** : 세 자리의 정수 중에서 각 자리의 수를 세 제곱한 수의 합과 자신이 같은 수"
      ]
    },
    {
      "cell_type": "code",
      "execution_count": null,
      "metadata": {
        "id": "DvFLshFqm9t8",
        "colab": {
          "base_uri": "https://localhost:8080/"
        },
        "outputId": "8eec81c1-c8ff-4d26-96b7-af67300fbd30"
      },
      "outputs": [
        {
          "output_type": "stream",
          "name": "stdout",
          "text": [
            "[153] is armstrong number\n",
            "[370] is armstrong number\n",
            "[371] is armstrong number\n",
            "[407] is armstrong number\n"
          ]
        }
      ],
      "source": [
        "def is_armstringNumber(N):\n",
        "  sum=0\n",
        "  a=N\n",
        "\n",
        "  while a>0:\n",
        "    b=a%10\n",
        "    sum+= b**3\n",
        "    a//=10\n",
        "\n",
        "  if N==sum:\n",
        "    return True\n",
        "  else:\n",
        "    return False\n",
        "\n",
        "\n",
        "\n",
        "\n",
        "\n",
        "for i in range(100, 1000):\n",
        "    if is_armstringNumber(i):\n",
        "        print(\"[%i] is armstrong number\" % i)"
      ]
    },
    {
      "cell_type": "markdown",
      "metadata": {
        "id": "Kvzu_J_a8GGf"
      },
      "source": [
        "### 실습문제 : 환전 계산 함수\n",
        "아래 조건을 만족하는 환전계산 함수를 만들어 보세요."
      ]
    },
    {
      "cell_type": "code",
      "execution_count": null,
      "metadata": {
        "id": "x1jdgfzq8GGf",
        "scrolled": true,
        "colab": {
          "base_uri": "https://localhost:8080/",
          "height": 369
        },
        "outputId": "2306155c-67e0-4521-a9cc-e09c91ed8c2a"
      },
      "outputs": [
        {
          "output_type": "stream",
          "name": "stdout",
          "text": [
            "환전 금액(원)을 입력하세요: 300000\n",
            "국가를 입력하세요: 미국\n",
            "------------------------------\n"
          ]
        },
        {
          "output_type": "error",
          "ename": "TypeError",
          "evalue": "string indices must be integers",
          "traceback": [
            "\u001b[0;31m---------------------------------------------------------------------------\u001b[0m",
            "\u001b[0;31mTypeError\u001b[0m                                 Traceback (most recent call last)",
            "\u001b[0;32m<ipython-input-10-e41dc9c793bf>\u001b[0m in \u001b[0;36m<cell line: 16>\u001b[0;34m()\u001b[0m\n\u001b[1;32m     14\u001b[0m \u001b[0mcountry\u001b[0m \u001b[0;34m=\u001b[0m \u001b[0minput\u001b[0m\u001b[0;34m(\u001b[0m\u001b[0;34m'국가를 입력하세요: '\u001b[0m\u001b[0;34m)\u001b[0m\u001b[0;34m\u001b[0m\u001b[0;34m\u001b[0m\u001b[0m\n\u001b[1;32m     15\u001b[0m \u001b[0mprint\u001b[0m\u001b[0;34m(\u001b[0m\u001b[0;34m'-'\u001b[0m\u001b[0;34m*\u001b[0m\u001b[0;36m30\u001b[0m\u001b[0;34m)\u001b[0m\u001b[0;34m\u001b[0m\u001b[0;34m\u001b[0m\u001b[0m\n\u001b[0;32m---> 16\u001b[0;31m \u001b[0mmoneyExchange\u001b[0m\u001b[0;34m(\u001b[0m\u001b[0mmoney\u001b[0m\u001b[0;34m,\u001b[0m \u001b[0mcountry\u001b[0m\u001b[0;34m)\u001b[0m\u001b[0;34m\u001b[0m\u001b[0;34m\u001b[0m\u001b[0m\n\u001b[0m",
            "\u001b[0;32m<ipython-input-10-e41dc9c793bf>\u001b[0m in \u001b[0;36mmoneyExchange\u001b[0;34m(m, c)\u001b[0m\n\u001b[1;32m      1\u001b[0m \u001b[0;32mdef\u001b[0m \u001b[0mmoneyExchange\u001b[0m\u001b[0;34m(\u001b[0m\u001b[0mm\u001b[0m\u001b[0;34m,\u001b[0m \u001b[0mc\u001b[0m\u001b[0;34m)\u001b[0m\u001b[0;34m:\u001b[0m\u001b[0;34m\u001b[0m\u001b[0;34m\u001b[0m\u001b[0m\n\u001b[1;32m      2\u001b[0m   \u001b[0;32mif\u001b[0m \u001b[0mc\u001b[0m \u001b[0;32min\u001b[0m \u001b[0mcountrys\u001b[0m\u001b[0;34m:\u001b[0m\u001b[0;34m\u001b[0m\u001b[0;34m\u001b[0m\u001b[0m\n\u001b[0;32m----> 3\u001b[0;31m     \u001b[0mcurrency\u001b[0m\u001b[0;34m,\u001b[0m \u001b[0mrate\u001b[0m \u001b[0;34m=\u001b[0m \u001b[0mcountry\u001b[0m\u001b[0;34m[\u001b[0m\u001b[0mc\u001b[0m\u001b[0;34m]\u001b[0m\u001b[0;34m\u001b[0m\u001b[0;34m\u001b[0m\u001b[0m\n\u001b[0m\u001b[1;32m      4\u001b[0m     \u001b[0ma\u001b[0m\u001b[0;34m=\u001b[0m\u001b[0mm\u001b[0m\u001b[0;34m/\u001b[0m\u001b[0mrate\u001b[0m\u001b[0;34m\u001b[0m\u001b[0;34m\u001b[0m\u001b[0m\n\u001b[1;32m      5\u001b[0m     \u001b[0mprint\u001b[0m\u001b[0;34m(\u001b[0m\u001b[0;34mf'{m}원은 약{a}{currency}입니다.'\u001b[0m\u001b[0;34m)\u001b[0m\u001b[0;34m\u001b[0m\u001b[0;34m\u001b[0m\u001b[0m\n",
            "\u001b[0;31mTypeError\u001b[0m: string indices must be integers"
          ]
        }
      ],
      "source": [
        "def moneyExchange(m, c):\n",
        "  if c in countrys:\n",
        "    currency, rate = country[c]\n",
        "    a=m/rate\n",
        "    print(f'{m}원은 약{a}{currency}입니다.')\n",
        "\n",
        "\n",
        "\n",
        "countrys = {'미국':['달러', 1182.5],\n",
        "            '중국':['위안', 169.22],\n",
        "            '유럽':['유로', 1286.74],\n",
        "            '일본':['엔', 1078.14]}\n",
        "money = int(input('환전 금액(원)을 입력하세요: '))\n",
        "country = input('국가를 입력하세요: ')\n",
        "print('-'*30)\n",
        "moneyExchange(money, country)"
      ]
    },
    {
      "cell_type": "markdown",
      "source": [
        "\n",
        "\n",
        "---\n",
        "\n"
      ],
      "metadata": {
        "id": "jcBxboxauPTJ"
      }
    },
    {
      "cell_type": "markdown",
      "metadata": {
        "id": "Ajjvg18_8GGg"
      },
      "source": [
        "### 5.ChatGPT와 페어프로그래밍하기"
      ]
    },
    {
      "cell_type": "markdown",
      "source": [
        "### 실습문제 : 영어 단어장 만들기\n",
        "아래 조건을 만족시키는 <영어단어장 만들기> 프로그램을 만들어 보세요.\n",
        "\n",
        "영단어는 key, 그의 뜻은 value 로 두는 dictionary 를 만드세요.<br>\n",
        "<메뉴>\n",
        " - 1. 단어 등록\n",
        " - 2. 단어 검색\n",
        " - 3. 단어 삭제\n",
        " - 4. 모든 단어 보기\n",
        " - 0. 종료하기\n",
        "\n",
        "1. 단어 등록 <br>\n",
        "    새 영단어와 그의 뜻을 입력 받고 dictionary 에 추가합니다.\n",
        "\n",
        "2. 단어 검색<br>\n",
        "    영단어를 입력 받아 그의 뜻을 출력합니다.<br>\n",
        "    미등록된 단어인 경우 '미등록 단어'를 출력합니다.\n",
        "    \n",
        "3. 단어 삭제<br>\n",
        "    영단어를 입력 받아 단어장에서 해당 단어를 삭제한다.<br>\n",
        "    미등록된 단어인 경우 '미등록 단어'를 출력합니다\n",
        "    \n",
        "4. 모든 단어 보기<br>\n",
        "    현재 등록되어 있는 모든 단어와 뜻을 출력합니다.\n",
        "\n",
        "0. 종료하기"
      ],
      "metadata": {
        "id": "LgP7QlUCtw9A"
      }
    },
    {
      "cell_type": "code",
      "source": [
        "menu = '''---선택메뉴--\n",
        "1. 단어 등록\n",
        "2. 단어 검색\n",
        "3. 단어 삭제\n",
        "4. 모든 단어 보기\n",
        "0. 종료하기\n",
        "------------------------------'''\n",
        "\n",
        "# 빈 딕셔너리를 만든다. (반복문 안에 넣지 않는다!)\n",
        "wordbook = {}\n",
        "\n",
        "def addBook():\n",
        "\n",
        "\n",
        "def searchBook():\n",
        "\n",
        "\n",
        "def deleteBook():\n",
        "\n",
        "\n",
        "def showAllBook():\n",
        "\n",
        "\n"
      ],
      "metadata": {
        "id": "eZLiY8m-txGd"
      },
      "execution_count": null,
      "outputs": []
    },
    {
      "cell_type": "markdown",
      "metadata": {
        "id": "SD7IuCtyEfxZ"
      },
      "source": [
        "\n",
        "\n",
        "---\n",
        "THE END\n",
        "\n"
      ]
    },
    {
      "cell_type": "markdown",
      "metadata": {
        "id": "RQoDVEJ38GGg"
      },
      "source": [
        "------"
      ]
    }
  ],
  "metadata": {
    "colab": {
      "provenance": [],
      "include_colab_link": true
    },
    "kernelspec": {
      "display_name": "Python 3 (ipykernel)",
      "language": "python",
      "name": "python3"
    },
    "language_info": {
      "codemirror_mode": {
        "name": "ipython",
        "version": 3
      },
      "file_extension": ".py",
      "mimetype": "text/x-python",
      "name": "python",
      "nbconvert_exporter": "python",
      "pygments_lexer": "ipython3",
      "version": "3.10.9"
    }
  },
  "nbformat": 4,
  "nbformat_minor": 0
}